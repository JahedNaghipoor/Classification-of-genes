{
  "nbformat": 4,
  "nbformat_minor": 0,
  "metadata": {
    "kernelspec": {
      "display_name": "Python 3",
      "language": "python",
      "name": "python3"
    },
    "language_info": {
      "codemirror_mode": {
        "name": "ipython",
        "version": 3
      },
      "file_extension": ".py",
      "mimetype": "text/x-python",
      "name": "python",
      "nbconvert_exporter": "python",
      "pygments_lexer": "ipython3",
      "version": "3.7.9"
    },
    "colab": {
      "name": "DNA Sequencing.ipynb",
      "provenance": [],
      "collapsed_sections": [],
      "include_colab_link": true
    }
  },
  "cells": [
    {
      "cell_type": "markdown",
      "metadata": {
        "id": "view-in-github",
        "colab_type": "text"
      },
      "source": [
        "<a href=\"https://colab.research.google.com/github/JahedNaghipoor/Classification-of-genes/blob/main/DNA_Sequencing.ipynb\" target=\"_parent\"><img src=\"https://colab.research.google.com/assets/colab-badge.svg\" alt=\"Open In Colab\"/></a>"
      ]
    },
    {
      "cell_type": "markdown",
      "metadata": {
        "id": "FsgnZBwvliQo"
      },
      "source": [
        "## DNA Sequencing \n",
        "predicting a gene's function based on the DNA sequence of the coding sequence alone"
      ]
    },
    {
      "cell_type": "code",
      "metadata": {
        "colab": {
          "base_uri": "https://localhost:8080/"
        },
        "id": "rsFPrXrImZgg",
        "outputId": "44b1da9e-8043-4a9b-ce74-1aaa52e3c2b2"
      },
      "source": [
        "from google.colab import drive\n",
        "drive.mount('/content/gdrive')"
      ],
      "execution_count": 57,
      "outputs": [
        {
          "output_type": "stream",
          "text": [
            "Drive already mounted at /content/gdrive; to attempt to forcibly remount, call drive.mount(\"/content/gdrive\", force_remount=True).\n"
          ],
          "name": "stdout"
        }
      ]
    },
    {
      "cell_type": "code",
      "metadata": {
        "id": "ZBitcqm_liQt"
      },
      "source": [
        "import numpy as np\n",
        "import pandas as pd\n",
        "import seaborn as sns\n",
        "import matplotlib.pyplot as plt\n",
        "%matplotlib inline  \n",
        "\n",
        "import os"
      ],
      "execution_count": 58,
      "outputs": []
    },
    {
      "cell_type": "code",
      "metadata": {
        "id": "AEptaba0pnYq"
      },
      "source": [
        "directory = \"/content/gdrive/MyDrive/Machine Learning and Deep Learning/Gene Classification/\""
      ],
      "execution_count": 59,
      "outputs": []
    },
    {
      "cell_type": "code",
      "metadata": {
        "colab": {
          "base_uri": "https://localhost:8080/",
          "height": 355
        },
        "id": "ov9tP2oHliQu",
        "outputId": "74e83a50-b857-4edc-8217-6c00ba159b74"
      },
      "source": [
        "human_data = pd.read_table(os.path.join(directory, 'human_data.txt'))\n",
        "human_data.head(10)"
      ],
      "execution_count": 60,
      "outputs": [
        {
          "output_type": "execute_result",
          "data": {
            "text/html": [
              "<div>\n",
              "<style scoped>\n",
              "    .dataframe tbody tr th:only-of-type {\n",
              "        vertical-align: middle;\n",
              "    }\n",
              "\n",
              "    .dataframe tbody tr th {\n",
              "        vertical-align: top;\n",
              "    }\n",
              "\n",
              "    .dataframe thead th {\n",
              "        text-align: right;\n",
              "    }\n",
              "</style>\n",
              "<table border=\"1\" class=\"dataframe\">\n",
              "  <thead>\n",
              "    <tr style=\"text-align: right;\">\n",
              "      <th></th>\n",
              "      <th>sequence</th>\n",
              "      <th>class</th>\n",
              "    </tr>\n",
              "  </thead>\n",
              "  <tbody>\n",
              "    <tr>\n",
              "      <th>0</th>\n",
              "      <td>ATGCCCCAACTAAATACTACCGTATGGCCCACCATAATTACCCCCA...</td>\n",
              "      <td>4</td>\n",
              "    </tr>\n",
              "    <tr>\n",
              "      <th>1</th>\n",
              "      <td>ATGAACGAAAATCTGTTCGCTTCATTCATTGCCCCCACAATCCTAG...</td>\n",
              "      <td>4</td>\n",
              "    </tr>\n",
              "    <tr>\n",
              "      <th>2</th>\n",
              "      <td>ATGTGTGGCATTTGGGCGCTGTTTGGCAGTGATGATTGCCTTTCTG...</td>\n",
              "      <td>3</td>\n",
              "    </tr>\n",
              "    <tr>\n",
              "      <th>3</th>\n",
              "      <td>ATGTGTGGCATTTGGGCGCTGTTTGGCAGTGATGATTGCCTTTCTG...</td>\n",
              "      <td>3</td>\n",
              "    </tr>\n",
              "    <tr>\n",
              "      <th>4</th>\n",
              "      <td>ATGCAACAGCATTTTGAATTTGAATACCAGACCAAAGTGGATGGTG...</td>\n",
              "      <td>3</td>\n",
              "    </tr>\n",
              "    <tr>\n",
              "      <th>5</th>\n",
              "      <td>ATGTGTGGCATTTGGGCGCTGTTTGGCAGTGATGATTGCCTTTCTG...</td>\n",
              "      <td>3</td>\n",
              "    </tr>\n",
              "    <tr>\n",
              "      <th>6</th>\n",
              "      <td>ATGAAGATTGCACACAGAGGTCCAGATGCATTCCGTTTTGAGAATG...</td>\n",
              "      <td>3</td>\n",
              "    </tr>\n",
              "    <tr>\n",
              "      <th>7</th>\n",
              "      <td>ATGCAACAGCATTTTGAATTTGAATACCAGACCAAAGTGGATGGTG...</td>\n",
              "      <td>3</td>\n",
              "    </tr>\n",
              "    <tr>\n",
              "      <th>8</th>\n",
              "      <td>ATGAAGATTGCACACAGAGGTCCAGATGCATTCCGTTTTGAGAATG...</td>\n",
              "      <td>3</td>\n",
              "    </tr>\n",
              "    <tr>\n",
              "      <th>9</th>\n",
              "      <td>ATGTGTGGCATTTGGGCGCTGTTTGGCAGTGATGATTGCCTTTCTG...</td>\n",
              "      <td>3</td>\n",
              "    </tr>\n",
              "  </tbody>\n",
              "</table>\n",
              "</div>"
            ],
            "text/plain": [
              "                                            sequence  class\n",
              "0  ATGCCCCAACTAAATACTACCGTATGGCCCACCATAATTACCCCCA...      4\n",
              "1  ATGAACGAAAATCTGTTCGCTTCATTCATTGCCCCCACAATCCTAG...      4\n",
              "2  ATGTGTGGCATTTGGGCGCTGTTTGGCAGTGATGATTGCCTTTCTG...      3\n",
              "3  ATGTGTGGCATTTGGGCGCTGTTTGGCAGTGATGATTGCCTTTCTG...      3\n",
              "4  ATGCAACAGCATTTTGAATTTGAATACCAGACCAAAGTGGATGGTG...      3\n",
              "5  ATGTGTGGCATTTGGGCGCTGTTTGGCAGTGATGATTGCCTTTCTG...      3\n",
              "6  ATGAAGATTGCACACAGAGGTCCAGATGCATTCCGTTTTGAGAATG...      3\n",
              "7  ATGCAACAGCATTTTGAATTTGAATACCAGACCAAAGTGGATGGTG...      3\n",
              "8  ATGAAGATTGCACACAGAGGTCCAGATGCATTCCGTTTTGAGAATG...      3\n",
              "9  ATGTGTGGCATTTGGGCGCTGTTTGGCAGTGATGATTGCCTTTCTG...      3"
            ]
          },
          "metadata": {
            "tags": []
          },
          "execution_count": 60
        }
      ]
    },
    {
      "cell_type": "code",
      "metadata": {
        "id": "OxWOg0XGBtkg"
      },
      "source": [
        "human_data['length of sequence'] = human_data.sequence.apply(len)"
      ],
      "execution_count": 61,
      "outputs": []
    },
    {
      "cell_type": "code",
      "metadata": {
        "colab": {
          "base_uri": "https://localhost:8080/",
          "height": 202
        },
        "id": "stV6Il9VCJnk",
        "outputId": "c9fc2e5d-ce56-4fc8-eee5-de99d352c103"
      },
      "source": [
        "human_data.head()"
      ],
      "execution_count": 62,
      "outputs": [
        {
          "output_type": "execute_result",
          "data": {
            "text/html": [
              "<div>\n",
              "<style scoped>\n",
              "    .dataframe tbody tr th:only-of-type {\n",
              "        vertical-align: middle;\n",
              "    }\n",
              "\n",
              "    .dataframe tbody tr th {\n",
              "        vertical-align: top;\n",
              "    }\n",
              "\n",
              "    .dataframe thead th {\n",
              "        text-align: right;\n",
              "    }\n",
              "</style>\n",
              "<table border=\"1\" class=\"dataframe\">\n",
              "  <thead>\n",
              "    <tr style=\"text-align: right;\">\n",
              "      <th></th>\n",
              "      <th>sequence</th>\n",
              "      <th>class</th>\n",
              "      <th>length of sequence</th>\n",
              "    </tr>\n",
              "  </thead>\n",
              "  <tbody>\n",
              "    <tr>\n",
              "      <th>0</th>\n",
              "      <td>ATGCCCCAACTAAATACTACCGTATGGCCCACCATAATTACCCCCA...</td>\n",
              "      <td>4</td>\n",
              "      <td>207</td>\n",
              "    </tr>\n",
              "    <tr>\n",
              "      <th>1</th>\n",
              "      <td>ATGAACGAAAATCTGTTCGCTTCATTCATTGCCCCCACAATCCTAG...</td>\n",
              "      <td>4</td>\n",
              "      <td>681</td>\n",
              "    </tr>\n",
              "    <tr>\n",
              "      <th>2</th>\n",
              "      <td>ATGTGTGGCATTTGGGCGCTGTTTGGCAGTGATGATTGCCTTTCTG...</td>\n",
              "      <td>3</td>\n",
              "      <td>1686</td>\n",
              "    </tr>\n",
              "    <tr>\n",
              "      <th>3</th>\n",
              "      <td>ATGTGTGGCATTTGGGCGCTGTTTGGCAGTGATGATTGCCTTTCTG...</td>\n",
              "      <td>3</td>\n",
              "      <td>1206</td>\n",
              "    </tr>\n",
              "    <tr>\n",
              "      <th>4</th>\n",
              "      <td>ATGCAACAGCATTTTGAATTTGAATACCAGACCAAAGTGGATGGTG...</td>\n",
              "      <td>3</td>\n",
              "      <td>1437</td>\n",
              "    </tr>\n",
              "  </tbody>\n",
              "</table>\n",
              "</div>"
            ],
            "text/plain": [
              "                                            sequence  class  length of sequence\n",
              "0  ATGCCCCAACTAAATACTACCGTATGGCCCACCATAATTACCCCCA...      4                 207\n",
              "1  ATGAACGAAAATCTGTTCGCTTCATTCATTGCCCCCACAATCCTAG...      4                 681\n",
              "2  ATGTGTGGCATTTGGGCGCTGTTTGGCAGTGATGATTGCCTTTCTG...      3                1686\n",
              "3  ATGTGTGGCATTTGGGCGCTGTTTGGCAGTGATGATTGCCTTTCTG...      3                1206\n",
              "4  ATGCAACAGCATTTTGAATTTGAATACCAGACCAAAGTGGATGGTG...      3                1437"
            ]
          },
          "metadata": {
            "tags": []
          },
          "execution_count": 62
        }
      ]
    },
    {
      "cell_type": "code",
      "metadata": {
        "scrolled": true,
        "colab": {
          "base_uri": "https://localhost:8080/"
        },
        "id": "4wVtSbHHliQv",
        "outputId": "c8d97ed0-2dc3-4d77-bdcd-ac68f1fb052e"
      },
      "source": [
        "human_data.isnull().sum()"
      ],
      "execution_count": 63,
      "outputs": [
        {
          "output_type": "execute_result",
          "data": {
            "text/plain": [
              "sequence              0\n",
              "class                 0\n",
              "length of sequence    0\n",
              "dtype: int64"
            ]
          },
          "metadata": {
            "tags": []
          },
          "execution_count": 63
        }
      ]
    },
    {
      "cell_type": "code",
      "metadata": {
        "colab": {
          "base_uri": "https://localhost:8080/"
        },
        "id": "fijcy3-zD-7y",
        "outputId": "b753338c-adbd-4d26-8908-f95de2e3d617"
      },
      "source": [
        "human_data.info()"
      ],
      "execution_count": 64,
      "outputs": [
        {
          "output_type": "stream",
          "text": [
            "<class 'pandas.core.frame.DataFrame'>\n",
            "RangeIndex: 4380 entries, 0 to 4379\n",
            "Data columns (total 3 columns):\n",
            " #   Column              Non-Null Count  Dtype \n",
            "---  ------              --------------  ----- \n",
            " 0   sequence            4380 non-null   object\n",
            " 1   class               4380 non-null   int64 \n",
            " 2   length of sequence  4380 non-null   int64 \n",
            "dtypes: int64(2), object(1)\n",
            "memory usage: 102.8+ KB\n"
          ],
          "name": "stdout"
        }
      ]
    },
    {
      "cell_type": "code",
      "metadata": {
        "colab": {
          "base_uri": "https://localhost:8080/",
          "height": 294
        },
        "id": "5IruVfEUliQw",
        "outputId": "428b2828-aadf-4786-e990-9dd29b0ed245"
      },
      "source": [
        "human_data.describe()"
      ],
      "execution_count": 65,
      "outputs": [
        {
          "output_type": "execute_result",
          "data": {
            "text/html": [
              "<div>\n",
              "<style scoped>\n",
              "    .dataframe tbody tr th:only-of-type {\n",
              "        vertical-align: middle;\n",
              "    }\n",
              "\n",
              "    .dataframe tbody tr th {\n",
              "        vertical-align: top;\n",
              "    }\n",
              "\n",
              "    .dataframe thead th {\n",
              "        text-align: right;\n",
              "    }\n",
              "</style>\n",
              "<table border=\"1\" class=\"dataframe\">\n",
              "  <thead>\n",
              "    <tr style=\"text-align: right;\">\n",
              "      <th></th>\n",
              "      <th>class</th>\n",
              "      <th>length of sequence</th>\n",
              "    </tr>\n",
              "  </thead>\n",
              "  <tbody>\n",
              "    <tr>\n",
              "      <th>count</th>\n",
              "      <td>4380.000000</td>\n",
              "      <td>4380.000000</td>\n",
              "    </tr>\n",
              "    <tr>\n",
              "      <th>mean</th>\n",
              "      <td>3.504566</td>\n",
              "      <td>1263.598630</td>\n",
              "    </tr>\n",
              "    <tr>\n",
              "      <th>std</th>\n",
              "      <td>2.132134</td>\n",
              "      <td>1280.754087</td>\n",
              "    </tr>\n",
              "    <tr>\n",
              "      <th>min</th>\n",
              "      <td>0.000000</td>\n",
              "      <td>5.000000</td>\n",
              "    </tr>\n",
              "    <tr>\n",
              "      <th>25%</th>\n",
              "      <td>2.000000</td>\n",
              "      <td>405.000000</td>\n",
              "    </tr>\n",
              "    <tr>\n",
              "      <th>50%</th>\n",
              "      <td>4.000000</td>\n",
              "      <td>865.000000</td>\n",
              "    </tr>\n",
              "    <tr>\n",
              "      <th>75%</th>\n",
              "      <td>6.000000</td>\n",
              "      <td>1662.000000</td>\n",
              "    </tr>\n",
              "    <tr>\n",
              "      <th>max</th>\n",
              "      <td>6.000000</td>\n",
              "      <td>18921.000000</td>\n",
              "    </tr>\n",
              "  </tbody>\n",
              "</table>\n",
              "</div>"
            ],
            "text/plain": [
              "             class  length of sequence\n",
              "count  4380.000000         4380.000000\n",
              "mean      3.504566         1263.598630\n",
              "std       2.132134         1280.754087\n",
              "min       0.000000            5.000000\n",
              "25%       2.000000          405.000000\n",
              "50%       4.000000          865.000000\n",
              "75%       6.000000         1662.000000\n",
              "max       6.000000        18921.000000"
            ]
          },
          "metadata": {
            "tags": []
          },
          "execution_count": 65
        }
      ]
    },
    {
      "cell_type": "code",
      "metadata": {
        "colab": {
          "base_uri": "https://localhost:8080/",
          "height": 281
        },
        "id": "IQeQMZ9OliQw",
        "outputId": "3541ba68-9668-4479-d4f4-9610854cff57"
      },
      "source": [
        "human_data['class'].value_counts().sort_index().plot(kind='bar')"
      ],
      "execution_count": 66,
      "outputs": [
        {
          "output_type": "execute_result",
          "data": {
            "text/plain": [
              "<matplotlib.axes._subplots.AxesSubplot at 0x7f7d96725860>"
            ]
          },
          "metadata": {
            "tags": []
          },
          "execution_count": 66
        },
        {
          "output_type": "display_data",
          "data": {
            "image/png": "[encoded data removed]",
            "text/plain": [
              "<Figure size 432x288 with 1 Axes>"
            ]
          },
          "metadata": {
            "tags": [],
            "needs_background": "light"
          }
        }
      ]
    },
    {
      "cell_type": "code",
      "metadata": {
        "id": "ku9yk6kUEtsY",
        "colab": {
          "base_uri": "https://localhost:8080/",
          "height": 279
        },
        "outputId": "d5102601-6281-4b02-cc86-c98bf70a40e4"
      },
      "source": [
        "from sklearn.utils import resample\n",
        "# Separate class 6 and other classes\n",
        "df_without_class6 = human_data[human_data['class']!=6]\n",
        "df_with_class6 = human_data[human_data['class']==6]\n",
        " \n",
        "# Upsample minority class\n",
        "df_with_class6 = resample(df_with_class6, \n",
        "                                 replace=True,     \n",
        "                                 n_samples=700,    \n",
        "                                 random_state=123)\n",
        "human_data = pd.concat([df_with_class6, df_without_class6])\n",
        "human_data['class'].value_counts().sort_index().plot(kind='bar')"
      ],
      "execution_count": 67,
      "outputs": [
        {
          "output_type": "execute_result",
          "data": {
            "text/plain": [
              "<matplotlib.axes._subplots.AxesSubplot at 0x7f7d95ae73c8>"
            ]
          },
          "metadata": {
            "tags": []
          },
          "execution_count": 67
        },
        {
          "output_type": "display_data",
          "data": {
            "image/png": "[encoded data removed]",
            "text/plain": [
              "<Figure size 432x288 with 1 Axes>"
            ]
          },
          "metadata": {
            "tags": [],
            "needs_background": "light"
          }
        }
      ]
    },
    {
      "cell_type": "markdown",
      "metadata": {
        "id": "lIvbKCwxliQx"
      },
      "source": [
        "### Let's define a function to collect all possible overlapping k-mers of a specified length from any sequence string. We will basically apply the k-mers to the complete sequences."
      ]
    },
    {
      "cell_type": "code",
      "metadata": {
        "id": "q7X7M-YYliQx"
      },
      "source": [
        "'''https://bioinfologics.github.io/post/2018/09/17/k-mer-counting-part-i-introduction/'''\n",
        "def getKmers(sequence, size):\n",
        "    return [sequence[x:x+size].lower() for x in range(len(sequence) - size + 1)]"
      ],
      "execution_count": 68,
      "outputs": []
    },
    {
      "cell_type": "markdown",
      "metadata": {
        "id": "uVsQIC6hliQx"
      },
      "source": [
        "## Now we can convert our training data sequences into short overlapping  k-mers of legth 6.  Lets do that for each species of data we have using our getKmers function."
      ]
    },
    {
      "cell_type": "code",
      "metadata": {
        "id": "FXmgsciUliQx"
      },
      "source": [
        "human_data['words'] = human_data.apply(lambda x: getKmers(sequence=x['sequence'], size=5), axis=1)\n",
        "human_data = human_data.drop('sequence', axis=1)"
      ],
      "execution_count": 69,
      "outputs": []
    },
    {
      "cell_type": "markdown",
      "metadata": {
        "id": "xXN5NgrkliQy"
      },
      "source": [
        "### Now, our coding sequence data is changed to lowercase, split up into all possible k-mer words of length 6 and ready for the next step.  Let's take a look."
      ]
    },
    {
      "cell_type": "code",
      "metadata": {
        "colab": {
          "base_uri": "https://localhost:8080/",
          "height": 202
        },
        "id": "g7cvSkb4liQy",
        "outputId": "7851ec49-8689-4ec2-df80-ec246b02fcc0"
      },
      "source": [
        "human_data.head()"
      ],
      "execution_count": 70,
      "outputs": [
        {
          "output_type": "execute_result",
          "data": {
            "text/html": [
              "<div>\n",
              "<style scoped>\n",
              "    .dataframe tbody tr th:only-of-type {\n",
              "        vertical-align: middle;\n",
              "    }\n",
              "\n",
              "    .dataframe tbody tr th {\n",
              "        vertical-align: top;\n",
              "    }\n",
              "\n",
              "    .dataframe thead th {\n",
              "        text-align: right;\n",
              "    }\n",
              "</style>\n",
              "<table border=\"1\" class=\"dataframe\">\n",
              "  <thead>\n",
              "    <tr style=\"text-align: right;\">\n",
              "      <th></th>\n",
              "      <th>class</th>\n",
              "      <th>length of sequence</th>\n",
              "      <th>words</th>\n",
              "    </tr>\n",
              "  </thead>\n",
              "  <tbody>\n",
              "    <tr>\n",
              "      <th>3609</th>\n",
              "      <td>6</td>\n",
              "      <td>1809</td>\n",
              "      <td>[atgtc, tgtcg, gtcga, tcgaa, cgaat, gaatg, aat...</td>\n",
              "    </tr>\n",
              "    <tr>\n",
              "      <th>3260</th>\n",
              "      <td>6</td>\n",
              "      <td>1263</td>\n",
              "      <td>[ncttt, ctttt, ttttg, tttgc, ttgca, tgcag, gca...</td>\n",
              "    </tr>\n",
              "    <tr>\n",
              "      <th>228</th>\n",
              "      <td>6</td>\n",
              "      <td>1476</td>\n",
              "      <td>[atggt, tggtc, ggtct, gtctg, tctgt, ctgta, tgt...</td>\n",
              "    </tr>\n",
              "    <tr>\n",
              "      <th>3659</th>\n",
              "      <td>6</td>\n",
              "      <td>1314</td>\n",
              "      <td>[atggc, tggcc, ggcct, gcctt, ccttg, cttgg, ttg...</td>\n",
              "    </tr>\n",
              "    <tr>\n",
              "      <th>4054</th>\n",
              "      <td>6</td>\n",
              "      <td>333</td>\n",
              "      <td>[gccgt, ccgtg, cgtgc, gtgca, tgcag, gcagc, cag...</td>\n",
              "    </tr>\n",
              "  </tbody>\n",
              "</table>\n",
              "</div>"
            ],
            "text/plain": [
              "      class  ...                                              words\n",
              "3609      6  ...  [atgtc, tgtcg, gtcga, tcgaa, cgaat, gaatg, aat...\n",
              "3260      6  ...  [ncttt, ctttt, ttttg, tttgc, ttgca, tgcag, gca...\n",
              "228       6  ...  [atggt, tggtc, ggtct, gtctg, tctgt, ctgta, tgt...\n",
              "3659      6  ...  [atggc, tggcc, ggcct, gcctt, ccttg, cttgg, ttg...\n",
              "4054      6  ...  [gccgt, ccgtg, cgtgc, gtgca, tgcag, gcagc, cag...\n",
              "\n",
              "[5 rows x 3 columns]"
            ]
          },
          "metadata": {
            "tags": []
          },
          "execution_count": 70
        }
      ]
    },
    {
      "cell_type": "code",
      "metadata": {
        "id": "W8K9b6x-AsP0"
      },
      "source": [
        "human_data['number of k-mer words'] = human_data.words.apply(len)"
      ],
      "execution_count": 71,
      "outputs": []
    },
    {
      "cell_type": "code",
      "metadata": {
        "colab": {
          "base_uri": "https://localhost:8080/",
          "height": 355
        },
        "id": "Oi7zS0iTBXVc",
        "outputId": "1b878a56-43d4-45b5-f37c-23a871857f6e"
      },
      "source": [
        "human_data.head(10)"
      ],
      "execution_count": 72,
      "outputs": [
        {
          "output_type": "execute_result",
          "data": {
            "text/html": [
              "<div>\n",
              "<style scoped>\n",
              "    .dataframe tbody tr th:only-of-type {\n",
              "        vertical-align: middle;\n",
              "    }\n",
              "\n",
              "    .dataframe tbody tr th {\n",
              "        vertical-align: top;\n",
              "    }\n",
              "\n",
              "    .dataframe thead th {\n",
              "        text-align: right;\n",
              "    }\n",
              "</style>\n",
              "<table border=\"1\" class=\"dataframe\">\n",
              "  <thead>\n",
              "    <tr style=\"text-align: right;\">\n",
              "      <th></th>\n",
              "      <th>class</th>\n",
              "      <th>length of sequence</th>\n",
              "      <th>words</th>\n",
              "      <th>number of k-mer words</th>\n",
              "    </tr>\n",
              "  </thead>\n",
              "  <tbody>\n",
              "    <tr>\n",
              "      <th>3609</th>\n",
              "      <td>6</td>\n",
              "      <td>1809</td>\n",
              "      <td>[atgtc, tgtcg, gtcga, tcgaa, cgaat, gaatg, aat...</td>\n",
              "      <td>1805</td>\n",
              "    </tr>\n",
              "    <tr>\n",
              "      <th>3260</th>\n",
              "      <td>6</td>\n",
              "      <td>1263</td>\n",
              "      <td>[ncttt, ctttt, ttttg, tttgc, ttgca, tgcag, gca...</td>\n",
              "      <td>1259</td>\n",
              "    </tr>\n",
              "    <tr>\n",
              "      <th>228</th>\n",
              "      <td>6</td>\n",
              "      <td>1476</td>\n",
              "      <td>[atggt, tggtc, ggtct, gtctg, tctgt, ctgta, tgt...</td>\n",
              "      <td>1472</td>\n",
              "    </tr>\n",
              "    <tr>\n",
              "      <th>3659</th>\n",
              "      <td>6</td>\n",
              "      <td>1314</td>\n",
              "      <td>[atggc, tggcc, ggcct, gcctt, ccttg, cttgg, ttg...</td>\n",
              "      <td>1310</td>\n",
              "    </tr>\n",
              "    <tr>\n",
              "      <th>4054</th>\n",
              "      <td>6</td>\n",
              "      <td>333</td>\n",
              "      <td>[gccgt, ccgtg, cgtgc, gtgca, tgcag, gcagc, cag...</td>\n",
              "      <td>329</td>\n",
              "    </tr>\n",
              "    <tr>\n",
              "      <th>218</th>\n",
              "      <td>6</td>\n",
              "      <td>204</td>\n",
              "      <td>[atgcg, tgcgt, gcgtg, cgtgc, gtgcc, tgccg, gcc...</td>\n",
              "      <td>200</td>\n",
              "    </tr>\n",
              "    <tr>\n",
              "      <th>244</th>\n",
              "      <td>6</td>\n",
              "      <td>1056</td>\n",
              "      <td>[atgac, tgacc, gaccg, accga, ccgaa, cgaaa, gaa...</td>\n",
              "      <td>1052</td>\n",
              "    </tr>\n",
              "    <tr>\n",
              "      <th>2097</th>\n",
              "      <td>6</td>\n",
              "      <td>810</td>\n",
              "      <td>[atgta, tgtac, gtaca, tacaa, acaaa, caaag, aaa...</td>\n",
              "      <td>806</td>\n",
              "    </tr>\n",
              "    <tr>\n",
              "      <th>106</th>\n",
              "      <td>6</td>\n",
              "      <td>505</td>\n",
              "      <td>[atgaa, tgaat, gaatg, aatga, atgat, tgatt, gat...</td>\n",
              "      <td>501</td>\n",
              "    </tr>\n",
              "    <tr>\n",
              "      <th>138</th>\n",
              "      <td>6</td>\n",
              "      <td>1326</td>\n",
              "      <td>[atgaa, tgaag, gaagg, aaggc, aggcg, ggcgg, gcg...</td>\n",
              "      <td>1322</td>\n",
              "    </tr>\n",
              "  </tbody>\n",
              "</table>\n",
              "</div>"
            ],
            "text/plain": [
              "      class  ...  number of k-mer words\n",
              "3609      6  ...                   1805\n",
              "3260      6  ...                   1259\n",
              "228       6  ...                   1472\n",
              "3659      6  ...                   1310\n",
              "4054      6  ...                    329\n",
              "218       6  ...                    200\n",
              "244       6  ...                   1052\n",
              "2097      6  ...                    806\n",
              "106       6  ...                    501\n",
              "138       6  ...                   1322\n",
              "\n",
              "[10 rows x 4 columns]"
            ]
          },
          "metadata": {
            "tags": []
          },
          "execution_count": 72
        }
      ]
    },
    {
      "cell_type": "markdown",
      "metadata": {
        "id": "AvhIO8EZliQy"
      },
      "source": [
        "### Since we are going to use scikit-learn natural language processing tools to do the k-mer counting, we need to now convert the lists of k-mers for each gene into string sentences of words that the count vectorizer can use.  We can also make a y variable to hold the class labels.  Let's do that now."
      ]
    },
    {
      "cell_type": "code",
      "metadata": {
        "id": "eRgKXAvzliQy"
      },
      "source": [
        "human_texts = list(human_data['words'])\n",
        "for item in range(len(human_texts)):\n",
        "    human_texts[item] = ' '.join(human_texts[item])\n",
        "y_data = human_data.iloc[:, 0].values                         "
      ],
      "execution_count": 73,
      "outputs": []
    },
    {
      "cell_type": "code",
      "metadata": {
        "colab": {
          "base_uri": "https://localhost:8080/"
        },
        "id": "i0csGUVDliQy",
        "outputId": "60124ad6-7d46-46c2-d05c-9ba335242bd8"
      },
      "source": [
        "print(human_texts[2])"
      ],
      "execution_count": 74,
      "outputs": [
        {
          "output_type": "stream",
          "text": [
            "atggt tggtc ggtct gtctg tctgt ctgta tgtac gtaca tacaa acaat caata aatat atatg tatgt atgtc tgtca gtcaa tcaag caaga aagaa agaag gaaga aagag agagt gagta agtat gtatt tattc attca ttcag tcaga cagaa agaag gaagc aagct agctc gctcc ctccc tccca cccaa ccaat caatg aatga atgaa tgaaa gaaat aaatg aatgg atggt tggtt ggtta gttat ttata tatat atatg tatgt atgtg tgtga gtgac tgaca gacaa acaag caagt aagtg agtgt gtgtg tgtgg gtggc tggcc ggcca gccaa ccaag caagg aagga aggat ggata gatat atatc tatca atcat tcatc catca atcag tcagt cagtt agttg gttgt ttgtg tgtgt gtgtc tgtca gtcac tcaca cacac acaca cacac acacc cacct acctc cctca ctcat tcata catat atatt tattg attga ttgat tgatt gattc attcc ttcca tccag ccagt cagtg agtgt gtgtg tgtga gtgat tgatt gattg attga ttgat tgatt gattc attca ttcag tcaga cagat agatg gatga atgaa tgaaa gaaaa aaaaa aaaat aaatg aatgg atggc tggct ggctc gctct ctctg tctgt ctgtc tgtcg gtcgg tcggc cggca ggcag gcagt cagtg agtgt gtgtg tgtgt gtgtt tgttt gtttt ttttt ttttg tttgc ttgca tgcaa gcaac caaca aacaa acaac caaca aacaa acaac caaca aacaa acaaa caaag aaaga aagag agagg gaggg agggg ggggt gggtg ggtgg gtggt tggtg ggtgc gtgca tgcac gcact cactt actta cttaa ttaag taaga aagaa agaaa gaaag aaagg aagga aggac ggacc gacca accaa ccaaa caaat aaatg aatgc atgcc tgcca gccaa ccaaa caaag aaagc aagca agcat gcatt cattg attgc ttgca tgcaa gcaag caagt aagtc agtca gtcat tcatg catga atgaa tgaag gaagc aagca agcag gcaga cagac agaca gacat acatt catta attac ttacc taccc accct cccta cctat ctata tatag atagt tagtg agtgt gtgtg tgtgg gtggc tggca ggcag gcaga cagac agacc gacct acctt ccttg cttga ttgaa tgaat gaatg aatgg atggg tggga gggat ggatg gatgc atgca tgcag gcagg caggt aggtc ggtca gtcat tcata cataa ataaa taaaa aaaac aaacc aacca accaa ccaat caatg aatgt atgtc tgtcc gtcca tccag ccagc cagca agcag gcagt cagtg agtgt gtgtt tgtta gttac ttact tactg actgc ctgct tgcta gctat ctatt tattg attgt ttgtg tgtgg gtgga tggag ggagg gaggc aggcc ggccc gccct ccctg cctgg ctgga tggag ggaga gagac agact gactg actgg ctggt tggta ggtat gtatt tattt atttg tttga ttgaa tgaag gaaga aagat agatg gatgc atgct tgcta gctac ctaca tacag acagt cagtg agtgc gtgct tgctg gctgc ctgca tgcaa gcaaa caaat aaatg aatgt atgta tgtaa gtaag taagc aagca agcag gcagt cagtg agtgg gtggt tggtt ggttt gtttc tttca ttcat tcatg catga atgag tgagg gaggc aggct ggctt gcttg cttgt ttgtg tgtgt gtgtg tgtgc gtgca tgcaa gcaat caatg aatgc atgcc tgcct gcctt ccttc cttca ttcaa tcaaa caaaa aaaag aaagc aagcc agcca gccaa ccaat caatg aatgc atgct tgcta gctat ctatt tattt atttg tttgg ttgga tggag ggaga gagac agaca gacag acaga cagat agatt gattt atttt tttta tttat ttata tatac atacg tacgt acgtt cgttt gttta tttat ttata tatat atatg tatgc atgct tgctc gctct ctctg tctgt ctgtc tgtct gtctg tctgc ctgca tgcag gcagt cagtt agttc gttct ttctg tctgg ctgga tggac ggacc gacca accag ccaga cagaa agaat gaata aatac atacc tacct acctc cctca ctcaa tcaaa caaac aaacg aacgt acgtc cgtct gtcta tctac ctacc tacca accat ccatt catta attac ttaca tacag acagt cagtg agtgg gtggg tgggt gggta ggtag gtaga tagat agata gatat atata tatag atagc tagca agcac gcaca cacac acacc cacct accta cctat ctatg tatgc atgcc tgcct gcctt ccttt cttta tttac ttaca tacaa acaac caacc aacct accta cctaa ctaag taagt aagtg agtgt gtgtt tgtta gttat ttatt tattc attca ttcat tcata cataa ataag taaga aagaa agaag gaaga aagaa agaaa gaaat aaata aatac atact tactt acttt ctttg tttga ttgat tgatt gattc attct ttctg tctga ctgaa tgaac gaact aactt acttg cttga ttgag tgagc gagct agctt gctta cttat ttatg tatga atgac tgaca gacat acata catac ataca tacat acatt catta attaa ttaat taatg aatga atgaa tgaaa gaaaa aaaac aaact aactg actgg ctggg tggga gggat ggata gatag ataga tagat agatt gattg attgc ttgca tgcac gcacc caccc accct ccctg cctgg ctgga tggag ggaga gagag agagc gagct agctg gctgg ctggc tggca ggcag gcaga cagac agaca gacac acaca cacac acacc cacca accaa ccaaa caaaa aaaat aaatc aatct atctg tctga ctgaa tgaaa gaaag aaaga aagat agata gatat atatg tatga atgag tgagc gagca agcat gcatg catgt atgtt tgttc gttct ttctg tctgg ctgga tggag ggagg gaggc aggca ggcat gcatt catta attaa ttaaa taaat aaatg aatga atgat tgatt gatta attac ttaca tacaa acaag caaga aagac agacc gacca accat ccatg catgt atgtt tgttt gttta tttat ttatg tatgt atgtc tgtct gtctg tctgg ctggg tggga gggaa ggaaa gaaag aaaga aagaa agaaa gaaat aaata aataa ataaa taaag aaaga aagaa agaag gaaga aagaa agaag gaaga aagaa agaag gaagc aagca agcat gcatt cattt atttg tttgt ttgtt tgttt gtttg tttgg ttggg tgggt gggtt ggttg gttgc ttgcg tgcga gcgaa cgaat gaatt aattc attcg ttcgt tcgtg cgtgt gtgtt tgttc gttcc ttcct tcctc cctcc ctcct tcctg cctgt ctgtg tgtgc gtgcc tgcca gccac ccacc cacca accaa ccaaa caaat aaatg aatgt atgtg tgtgg gtggc tggct ggctt gcttt ctttc tttca ttcaa tcaaa caaag aaagc aagca agcag gcaga cagag agaga gagaa agaaa gaaag aaaga aagaa agaac gaacc aacct acctg cctga ctgaa tgaag gaagg aagga aggaa ggaac gaaca aacat acatc catct atctc tctca ctcat tcatg catga atgaa tgaat gaatt aattt attta tttaa ttaaa taaaa aaaat aaatt aatta attaa ttaaa taaag aaagg aaggc aggca ggcag gcaga cagaa agaaa gaaag aaagg aaggc aggca ggcat gcatc catcc atcca tccaa ccaaa caaac aaacc aacct accta cctat ctata tatat atatc tatct atctg tctga ctgat tgatt gattc attca ttcaa tcaag caagg aaggg aggga gggaa ggaag gaagt aagta agtaa gtaag taagc aagca agcaa gcaat caatg aatgg atggc tggca ggcat gcata catag ataga tagaa agaaa gaaaa aaaaa aaaaa aaaaa aaaaa aaaag aaagg aagga aggaa ggaaa gaaag aaaga aagaa agaaa gaaaa aaaaa aaaaa aaaat aaatc aatct atctg tctgt ctgta tgtag gtagg taggt aggtc ggtcg gtcgt tcgtc cgtcc gtcca tccac ccacc cacct acctg cctgg ctggc tggcc ggccc gccca cccat ccata catat atata tatac ataca tacaa acaag caaga aagaa agaaa gaaaa aaaaa aaaat aaatg aatga atgat tgatt gattc attca ttcaa tcaaa caaaa aaaaa aaaaa aaaac aaact aactg actgc ctgct tgctg gctga ctgag tgagc gagcc agcca gccac ccact cactt acttt ctttt ttttg tttgg ttgga tggat ggata gataa ataag taagg aagga aggaa ggaat gaatc aatca atcaa tcaat caatt aattt atttc tttca ttcag tcaga cagag agaga gagaa agaat gaatc aatcc atcct tccta cctac ctact tactt acttt ctttg tttgg ttgga tggat ggatt gattt attta tttac ttacc tacct acctt ccttg cttgt ttgtt tgttc gttct ttcta tctat ctata tatag atagg taggg aggga gggag ggaga gagaa agaac gaact aactg actga ctgag tgagg gaggg aggga gggaa ggaac gaact aactg actgc ctgca tgcac gcaca cacat acatt cattc attca ttcat tcatc catcc atcca tccaa ccaat caata aatac atacc tacct acctc cctca ctcag tcaga cagat agatg gatgt atgtg tgtgg gtgga tggat ggatt gattt atttc tttca ttcac tcacg cacgg acggg cgggt gggtg ggtgc gtgct tgctt gcttc cttcc ttcca tccag ccagt cagtg agtgc gtgca tgcaa gcaaa caaaa aaaag aaaga aagaa agaaa gaaac aaact aacta actac ctacc tacct acctc cctcg ctcgt tcgtc cgtct gtcta tctag ctagc tagca agcat gcatt cattt atttc tttcc ttcca tccag ccagg caggc aggca ggcat gcatt catta attat ttatg tatgg atgga tggat ggatt gatta attat ttatc tatct atctg tctga ctgac tgact gactc actcc ctcca tccag ccaga cagaa agaaa gaaaa aaaaa aaaag aaaga aagaa agaac gaacg aacgc acgcg cgcgt gcgta cgtac gtaca tacag acagg cagga aggaa ggaag gaaga aagat agatc gatct atctt tcttg cttgg ttggc tggcc ggcct gcctg cctgc ctgct tgctg gctgc ctgca tgcaa gcaat caata aatac atacc tacca accac ccaca cacat acatt cattt atttg tttgc ttgcg tgcgg gcgga cggag ggaga gagaa agaag gaaga aagaa agaag gaaga aagag agagg gaggt aggtc ggtcg gtcgt tcgtc cgtct gtctt tcttc cttcc ttcca tccaa ccaag caaga aagaa agaag gaaga aagag agagc gagca agcac gcact cactc actcc ctcca tccag ccaga cagac agact gactc actca ctcag tcaga cagaa agaac gaact aactc actca ctcag tcaga cagaa agaaa gaaat aaatt aattg attgt ttgta tgtaa gtaaa taaaa aaaag aaaga aagat agatg gatga atgat tgatg gatga atgaa tgaag gaagg aaggc aggca ggcaa gcaaa caaag aaaga aagaa agaag gaaga aagat agatt gatta attat ttatc tatca atcag tcagt cagtt agttt gtttg tttga ttgat tgatg gatga atgaa tgaac gaact aactc actca ctcaa tcaac caaca aacac acaca cacag acaga cagag agaga gagat agatt gattc attct ttctg tctga ctgaa tgaat gaata aataa ataac taact aactt actta cttag ttagc tagca agcag gcaga cagat agatc gatca atcag tcagg cagga aggag ggagt gagtt agtta gttac ttaca tacaa acaac caact aactc actca ctcaa tcaat caatc aatca atcat tcatc catct atcta tctaa ctaaa taaag aaaga aagaa agaac gaact aactc actcc ctcca tccat ccatt catta attac ttacc tacca accag ccagt cagtt agtta gttat ttatt tattt atttt ttttg tttgg ttggt tggtg ggtgc gtgct tgctg gctgc ctgca tgcag gcagg caggt aggta ggtag gtaga tagaa agaat gaata aatag atagc tagca agcat gcatg catgt atgtg tgtgg gtggc tggcg ggcga gcgaa cgaaa gaaaa aaaaa aaaat aaata aatac atacc taccg accga ccgag cgagt gagtt agttt gtttt ttttg tttgg ttggc tggca ggcac gcacg cacgt acgtc cgtcg gtcgg tcggg cgggt gggtg ggtga gtgac tgaca gacac acact cactt acttg cttga ttgat tgatg gatgg atgga tggaa ggaaa gaaag aaagg aaggt aggtg ggtgc gtgca tgcag gcagt cagta agtat gtatc tatct atctt tcttg cttgt ttgtg tgtgg gtgga tggaa ggaat gaatg aatgg atggg tggga gggaa ggaag gaagg aagga aggag ggagc gagca agcaa gcaac caact aactg actgc ctgca tgcat gcatc catcc atcct tcctg cctga\n"
          ],
          "name": "stdout"
        }
      ]
    },
    {
      "cell_type": "code",
      "metadata": {
        "colab": {
          "base_uri": "https://localhost:8080/"
        },
        "id": "vAMYoJ92liQz",
        "outputId": "809a9ca8-0edc-4756-c376-fa65411c32f9"
      },
      "source": [
        "y_data"
      ],
      "execution_count": 75,
      "outputs": [
        {
          "output_type": "execute_result",
          "data": {
            "text/plain": [
              "array([6, 6, 6, ..., 0, 0, 0])"
            ]
          },
          "metadata": {
            "tags": []
          },
          "execution_count": 75
        }
      ]
    },
    {
      "cell_type": "markdown",
      "metadata": {
        "id": "HAPlAdxuliQz"
      },
      "source": [
        "## Now we will apply the BAG of WORDS using CountVectorizer using NLP"
      ]
    },
    {
      "cell_type": "code",
      "metadata": {
        "id": "WdqPZSneliQz"
      },
      "source": [
        "from sklearn.feature_extraction.text import CountVectorizer\n",
        "cv = CountVectorizer(ngram_range=(4,4))\n",
        "X = cv.fit_transform(human_texts)"
      ],
      "execution_count": 76,
      "outputs": []
    },
    {
      "cell_type": "code",
      "metadata": {
        "colab": {
          "base_uri": "https://localhost:8080/"
        },
        "id": "fqyk22mxliQz",
        "outputId": "10592d4b-4ea4-4296-d92a-69200b6b630d"
      },
      "source": [
        "print(X.shape)"
      ],
      "execution_count": 77,
      "outputs": [
        {
          "output_type": "stream",
          "text": [
            "(3737, 65264)\n"
          ],
          "name": "stdout"
        }
      ]
    },
    {
      "cell_type": "code",
      "metadata": {
        "id": "mgK-A22SliQ0"
      },
      "source": [
        "# Splitting the human dataset into the training set and test set\n",
        "from sklearn.model_selection import train_test_split\n",
        "X_train, X_test, y_train, y_test = train_test_split(X, \n",
        "                                                    y_data, \n",
        "                                                    test_size = 0.20, \n",
        "                                                    random_state=42)"
      ],
      "execution_count": 78,
      "outputs": []
    },
    {
      "cell_type": "code",
      "metadata": {
        "colab": {
          "base_uri": "https://localhost:8080/"
        },
        "id": "hBWDpOJbliQ0",
        "outputId": "95c58ec6-3d34-4912-bba6-5e27ef949a57"
      },
      "source": [
        "print(X_train.shape)\n",
        "print(X_test.shape)"
      ],
      "execution_count": 79,
      "outputs": [
        {
          "output_type": "stream",
          "text": [
            "(2989, 65264)\n",
            "(748, 65264)\n"
          ],
          "name": "stdout"
        }
      ]
    },
    {
      "cell_type": "code",
      "metadata": {
        "scrolled": true,
        "id": "fJwUnnsqliQ0"
      },
      "source": [
        "from sklearn.linear_model import LogisticRegression"
      ],
      "execution_count": 80,
      "outputs": []
    },
    {
      "cell_type": "code",
      "metadata": {
        "colab": {
          "base_uri": "https://localhost:8080/"
        },
        "id": "72UUNdx_liQ0",
        "outputId": "ed65dcba-87a8-4c88-ebbb-bb9df78b6449"
      },
      "source": [
        "classifier = LogisticRegression()\n",
        "classifier.fit(X_train, y_train)"
      ],
      "execution_count": 81,
      "outputs": [
        {
          "output_type": "execute_result",
          "data": {
            "text/plain": [
              "LogisticRegression(C=1.0, class_weight=None, dual=False, fit_intercept=True,\n",
              "                   intercept_scaling=1, l1_ratio=None, max_iter=100,\n",
              "                   multi_class='auto', n_jobs=None, penalty='l2',\n",
              "                   random_state=None, solver='lbfgs', tol=0.0001, verbose=0,\n",
              "                   warm_start=False)"
            ]
          },
          "metadata": {
            "tags": []
          },
          "execution_count": 81
        }
      ]
    },
    {
      "cell_type": "code",
      "metadata": {
        "id": "1mb9o5yFliQ1"
      },
      "source": [
        "y_pred = classifier.predict(X_test)"
      ],
      "execution_count": 82,
      "outputs": []
    },
    {
      "cell_type": "code",
      "metadata": {
        "id": "udF560uOliQ1"
      },
      "source": [
        "from sklearn.metrics import accuracy_score, f1_score, precision_score, recall_score, confusion_matrix, classification_report"
      ],
      "execution_count": 83,
      "outputs": []
    },
    {
      "cell_type": "code",
      "metadata": {
        "colab": {
          "base_uri": "https://localhost:8080/",
          "height": 283
        },
        "id": "lNQIfkI2liQ1",
        "outputId": "5fdbf980-2c8b-4f31-d9d7-bd186c4e21b4"
      },
      "source": [
        "sns.heatmap(confusion_matrix(y_test,y_pred), annot=True)"
      ],
      "execution_count": 84,
      "outputs": [
        {
          "output_type": "execute_result",
          "data": {
            "text/plain": [
              "<matplotlib.axes._subplots.AxesSubplot at 0x7f7d8c2342e8>"
            ]
          },
          "metadata": {
            "tags": []
          },
          "execution_count": 84
        },
        {
          "output_type": "display_data",
          "data": {
            "image/png": "[encoded data removed]",
            "text/plain": [
              "<Figure size 432x288 with 2 Axes>"
            ]
          },
          "metadata": {
            "tags": [],
            "needs_background": "light"
          }
        }
      ]
    },
    {
      "cell_type": "code",
      "metadata": {
        "colab": {
          "base_uri": "https://localhost:8080/"
        },
        "id": "2sO1qKDCliQ1",
        "outputId": "365701fc-ee38-45cb-9d2a-9ad4e92465a1"
      },
      "source": [
        "print(classification_report(y_test,y_pred))"
      ],
      "execution_count": 85,
      "outputs": [
        {
          "output_type": "stream",
          "text": [
            "              precision    recall  f1-score   support\n",
            "\n",
            "           0       0.96      0.95      0.96       106\n",
            "           1       0.99      0.97      0.98        92\n",
            "           2       0.99      0.91      0.95        77\n",
            "           3       0.95      0.95      0.95       123\n",
            "           4       0.90      0.98      0.94       146\n",
            "           5       1.00      0.82      0.90        45\n",
            "           6       0.94      0.96      0.95       159\n",
            "\n",
            "    accuracy                           0.95       748\n",
            "   macro avg       0.96      0.93      0.95       748\n",
            "weighted avg       0.95      0.95      0.95       748\n",
            "\n"
          ],
          "name": "stdout"
        }
      ]
    },
    {
      "cell_type": "code",
      "metadata": {
        "colab": {
          "base_uri": "https://localhost:8080/"
        },
        "id": "qOBf7BT8liQ1",
        "outputId": "535963c1-150d-476c-a307-536dc3099ba4"
      },
      "source": [
        "def get_metrics(y_test, y_predicted):\n",
        "    accuracy = accuracy_score(y_test, y_predicted)\n",
        "    precision = precision_score(y_test, y_predicted, average='weighted')\n",
        "    recall = recall_score(y_test, y_predicted, average='weighted')\n",
        "    f1 = f1_score(y_test, y_predicted, average='weighted')\n",
        "    return accuracy, precision, recall, f1\n",
        "accuracy, precision, recall, f1 = get_metrics(y_test, y_pred)\n",
        "print(\"accuracy = %.3f \\n precision = %.3f \\n recall = %.3f \\n f1 = %.3f\" % (accuracy, precision, recall, f1))"
      ],
      "execution_count": 86,
      "outputs": [
        {
          "output_type": "stream",
          "text": [
            "accuracy = 0.949 \n",
            " precision = 0.951 \n",
            " recall = 0.949 \n",
            " f1 = 0.949\n"
          ],
          "name": "stdout"
        }
      ]
    }
  ]
}