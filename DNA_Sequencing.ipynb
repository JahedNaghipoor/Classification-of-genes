{
  "nbformat": 4,
  "nbformat_minor": 0,
  "metadata": {
    "kernelspec": {
      "display_name": "Python 3",
      "language": "python",
      "name": "python3"
    },
    "language_info": {
      "codemirror_mode": {
        "name": "ipython",
        "version": 3
      },
      "file_extension": ".py",
      "mimetype": "text/x-python",
      "name": "python",
      "nbconvert_exporter": "python",
      "pygments_lexer": "ipython3",
      "version": "3.7.9"
    },
    "colab": {
      "name": "DNA Sequencing.ipynb",
      "provenance": [],
      "collapsed_sections": [],
      "include_colab_link": true
    }
  },
  "cells": [
    {
      "cell_type": "markdown",
      "metadata": {
        "id": "view-in-github",
        "colab_type": "text"
      },
      "source": [
        "<a href=\"https://colab.research.google.com/github/JahedNaghipoor/Classification-of-genes/blob/Test/DNA_Sequencing.ipynb\" target=\"_parent\"><img src=\"https://colab.research.google.com/assets/colab-badge.svg\" alt=\"Open In Colab\"/></a>"
      ]
    },
    {
      "cell_type": "markdown",
      "metadata": {
        "id": "FsgnZBwvliQo"
      },
      "source": [
        "## DNA Sequencing \n",
        "predicting a gene's function based on the DNA sequence of the coding sequence alone"
      ]
    },
    {
      "cell_type": "code",
      "metadata": {
        "colab": {
          "base_uri": "https://localhost:8080/"
        },
        "id": "rsFPrXrImZgg",
        "outputId": "e7528204-2d7b-46f9-8c51-bf7985b1857e"
      },
      "source": [
        "from google.colab import drive\n",
        "drive.mount('/content/gdrive')"
      ],
      "execution_count": 401,
      "outputs": [
        {
          "output_type": "stream",
          "text": [
            "Drive already mounted at /content/gdrive; to attempt to forcibly remount, call drive.mount(\"/content/gdrive\", force_remount=True).\n"
          ],
          "name": "stdout"
        }
      ]
    },
    {
      "cell_type": "code",
      "metadata": {
        "id": "ZBitcqm_liQt"
      },
      "source": [
        "import numpy as np\n",
        "import pandas as pd\n",
        "import seaborn as sns\n",
        "import matplotlib.pyplot as plt\n",
        "%matplotlib inline  \n",
        "\n",
        "import os"
      ],
      "execution_count": 402,
      "outputs": []
    },
    {
      "cell_type": "code",
      "metadata": {
        "id": "AEptaba0pnYq"
      },
      "source": [
        "directory = \"/content/gdrive/MyDrive/Machine Learning and Deep Learning/Gene Classification/\""
      ],
      "execution_count": 403,
      "outputs": []
    },
    {
      "cell_type": "code",
      "metadata": {
        "colab": {
          "base_uri": "https://localhost:8080/",
          "height": 343
        },
        "id": "ov9tP2oHliQu",
        "outputId": "5d6ac6f5-1519-493e-ff98-fbbed0fac62a"
      },
      "source": [
        "human_data = pd.read_table(os.path.join(directory, 'human_data.txt'))\n",
        "human_data.head(10)"
      ],
      "execution_count": 404,
      "outputs": [
        {
          "output_type": "execute_result",
          "data": {
            "text/html": [
              "<div>\n",
              "<style scoped>\n",
              "    .dataframe tbody tr th:only-of-type {\n",
              "        vertical-align: middle;\n",
              "    }\n",
              "\n",
              "    .dataframe tbody tr th {\n",
              "        vertical-align: top;\n",
              "    }\n",
              "\n",
              "    .dataframe thead th {\n",
              "        text-align: right;\n",
              "    }\n",
              "</style>\n",
              "<table border=\"1\" class=\"dataframe\">\n",
              "  <thead>\n",
              "    <tr style=\"text-align: right;\">\n",
              "      <th></th>\n",
              "      <th>sequence</th>\n",
              "      <th>class</th>\n",
              "    </tr>\n",
              "  </thead>\n",
              "  <tbody>\n",
              "    <tr>\n",
              "      <th>0</th>\n",
              "      <td>ATGCCCCAACTAAATACTACCGTATGGCCCACCATAATTACCCCCA...</td>\n",
              "      <td>4</td>\n",
              "    </tr>\n",
              "    <tr>\n",
              "      <th>1</th>\n",
              "      <td>ATGAACGAAAATCTGTTCGCTTCATTCATTGCCCCCACAATCCTAG...</td>\n",
              "      <td>4</td>\n",
              "    </tr>\n",
              "    <tr>\n",
              "      <th>2</th>\n",
              "      <td>ATGTGTGGCATTTGGGCGCTGTTTGGCAGTGATGATTGCCTTTCTG...</td>\n",
              "      <td>3</td>\n",
              "    </tr>\n",
              "    <tr>\n",
              "      <th>3</th>\n",
              "      <td>ATGTGTGGCATTTGGGCGCTGTTTGGCAGTGATGATTGCCTTTCTG...</td>\n",
              "      <td>3</td>\n",
              "    </tr>\n",
              "    <tr>\n",
              "      <th>4</th>\n",
              "      <td>ATGCAACAGCATTTTGAATTTGAATACCAGACCAAAGTGGATGGTG...</td>\n",
              "      <td>3</td>\n",
              "    </tr>\n",
              "    <tr>\n",
              "      <th>5</th>\n",
              "      <td>ATGTGTGGCATTTGGGCGCTGTTTGGCAGTGATGATTGCCTTTCTG...</td>\n",
              "      <td>3</td>\n",
              "    </tr>\n",
              "    <tr>\n",
              "      <th>6</th>\n",
              "      <td>ATGAAGATTGCACACAGAGGTCCAGATGCATTCCGTTTTGAGAATG...</td>\n",
              "      <td>3</td>\n",
              "    </tr>\n",
              "    <tr>\n",
              "      <th>7</th>\n",
              "      <td>ATGCAACAGCATTTTGAATTTGAATACCAGACCAAAGTGGATGGTG...</td>\n",
              "      <td>3</td>\n",
              "    </tr>\n",
              "    <tr>\n",
              "      <th>8</th>\n",
              "      <td>ATGAAGATTGCACACAGAGGTCCAGATGCATTCCGTTTTGAGAATG...</td>\n",
              "      <td>3</td>\n",
              "    </tr>\n",
              "    <tr>\n",
              "      <th>9</th>\n",
              "      <td>ATGTGTGGCATTTGGGCGCTGTTTGGCAGTGATGATTGCCTTTCTG...</td>\n",
              "      <td>3</td>\n",
              "    </tr>\n",
              "  </tbody>\n",
              "</table>\n",
              "</div>"
            ],
            "text/plain": [
              "                                            sequence  class\n",
              "0  ATGCCCCAACTAAATACTACCGTATGGCCCACCATAATTACCCCCA...      4\n",
              "1  ATGAACGAAAATCTGTTCGCTTCATTCATTGCCCCCACAATCCTAG...      4\n",
              "2  ATGTGTGGCATTTGGGCGCTGTTTGGCAGTGATGATTGCCTTTCTG...      3\n",
              "3  ATGTGTGGCATTTGGGCGCTGTTTGGCAGTGATGATTGCCTTTCTG...      3\n",
              "4  ATGCAACAGCATTTTGAATTTGAATACCAGACCAAAGTGGATGGTG...      3\n",
              "5  ATGTGTGGCATTTGGGCGCTGTTTGGCAGTGATGATTGCCTTTCTG...      3\n",
              "6  ATGAAGATTGCACACAGAGGTCCAGATGCATTCCGTTTTGAGAATG...      3\n",
              "7  ATGCAACAGCATTTTGAATTTGAATACCAGACCAAAGTGGATGGTG...      3\n",
              "8  ATGAAGATTGCACACAGAGGTCCAGATGCATTCCGTTTTGAGAATG...      3\n",
              "9  ATGTGTGGCATTTGGGCGCTGTTTGGCAGTGATGATTGCCTTTCTG...      3"
            ]
          },
          "metadata": {
            "tags": []
          },
          "execution_count": 404
        }
      ]
    },
    {
      "cell_type": "code",
      "metadata": {
        "id": "OxWOg0XGBtkg"
      },
      "source": [
        "human_data['length of sequence'] = human_data.sequence.apply(len)"
      ],
      "execution_count": 405,
      "outputs": []
    },
    {
      "cell_type": "code",
      "metadata": {
        "colab": {
          "base_uri": "https://localhost:8080/",
          "height": 195
        },
        "id": "stV6Il9VCJnk",
        "outputId": "cf1c8912-0a08-420c-8755-badb94ceb1ad"
      },
      "source": [
        "human_data.head()"
      ],
      "execution_count": 406,
      "outputs": [
        {
          "output_type": "execute_result",
          "data": {
            "text/html": [
              "<div>\n",
              "<style scoped>\n",
              "    .dataframe tbody tr th:only-of-type {\n",
              "        vertical-align: middle;\n",
              "    }\n",
              "\n",
              "    .dataframe tbody tr th {\n",
              "        vertical-align: top;\n",
              "    }\n",
              "\n",
              "    .dataframe thead th {\n",
              "        text-align: right;\n",
              "    }\n",
              "</style>\n",
              "<table border=\"1\" class=\"dataframe\">\n",
              "  <thead>\n",
              "    <tr style=\"text-align: right;\">\n",
              "      <th></th>\n",
              "      <th>sequence</th>\n",
              "      <th>class</th>\n",
              "      <th>length of sequence</th>\n",
              "    </tr>\n",
              "  </thead>\n",
              "  <tbody>\n",
              "    <tr>\n",
              "      <th>0</th>\n",
              "      <td>ATGCCCCAACTAAATACTACCGTATGGCCCACCATAATTACCCCCA...</td>\n",
              "      <td>4</td>\n",
              "      <td>207</td>\n",
              "    </tr>\n",
              "    <tr>\n",
              "      <th>1</th>\n",
              "      <td>ATGAACGAAAATCTGTTCGCTTCATTCATTGCCCCCACAATCCTAG...</td>\n",
              "      <td>4</td>\n",
              "      <td>681</td>\n",
              "    </tr>\n",
              "    <tr>\n",
              "      <th>2</th>\n",
              "      <td>ATGTGTGGCATTTGGGCGCTGTTTGGCAGTGATGATTGCCTTTCTG...</td>\n",
              "      <td>3</td>\n",
              "      <td>1686</td>\n",
              "    </tr>\n",
              "    <tr>\n",
              "      <th>3</th>\n",
              "      <td>ATGTGTGGCATTTGGGCGCTGTTTGGCAGTGATGATTGCCTTTCTG...</td>\n",
              "      <td>3</td>\n",
              "      <td>1206</td>\n",
              "    </tr>\n",
              "    <tr>\n",
              "      <th>4</th>\n",
              "      <td>ATGCAACAGCATTTTGAATTTGAATACCAGACCAAAGTGGATGGTG...</td>\n",
              "      <td>3</td>\n",
              "      <td>1437</td>\n",
              "    </tr>\n",
              "  </tbody>\n",
              "</table>\n",
              "</div>"
            ],
            "text/plain": [
              "                                            sequence  class  length of sequence\n",
              "0  ATGCCCCAACTAAATACTACCGTATGGCCCACCATAATTACCCCCA...      4                 207\n",
              "1  ATGAACGAAAATCTGTTCGCTTCATTCATTGCCCCCACAATCCTAG...      4                 681\n",
              "2  ATGTGTGGCATTTGGGCGCTGTTTGGCAGTGATGATTGCCTTTCTG...      3                1686\n",
              "3  ATGTGTGGCATTTGGGCGCTGTTTGGCAGTGATGATTGCCTTTCTG...      3                1206\n",
              "4  ATGCAACAGCATTTTGAATTTGAATACCAGACCAAAGTGGATGGTG...      3                1437"
            ]
          },
          "metadata": {
            "tags": []
          },
          "execution_count": 406
        }
      ]
    },
    {
      "cell_type": "code",
      "metadata": {
        "scrolled": true,
        "colab": {
          "base_uri": "https://localhost:8080/"
        },
        "id": "4wVtSbHHliQv",
        "outputId": "c36b3ef5-09d4-42b0-f005-87ed4ad620af"
      },
      "source": [
        "human_data.isnull().sum()"
      ],
      "execution_count": 407,
      "outputs": [
        {
          "output_type": "execute_result",
          "data": {
            "text/plain": [
              "sequence              0\n",
              "class                 0\n",
              "length of sequence    0\n",
              "dtype: int64"
            ]
          },
          "metadata": {
            "tags": []
          },
          "execution_count": 407
        }
      ]
    },
    {
      "cell_type": "code",
      "metadata": {
        "colab": {
          "base_uri": "https://localhost:8080/"
        },
        "id": "fijcy3-zD-7y",
        "outputId": "6237021d-a830-475b-82e4-17a482f8dbdf"
      },
      "source": [
        "human_data.info()"
      ],
      "execution_count": 408,
      "outputs": [
        {
          "output_type": "stream",
          "text": [
            "<class 'pandas.core.frame.DataFrame'>\n",
            "RangeIndex: 4380 entries, 0 to 4379\n",
            "Data columns (total 3 columns):\n",
            " #   Column              Non-Null Count  Dtype \n",
            "---  ------              --------------  ----- \n",
            " 0   sequence            4380 non-null   object\n",
            " 1   class               4380 non-null   int64 \n",
            " 2   length of sequence  4380 non-null   int64 \n",
            "dtypes: int64(2), object(1)\n",
            "memory usage: 102.8+ KB\n"
          ],
          "name": "stdout"
        }
      ]
    },
    {
      "cell_type": "code",
      "metadata": {
        "colab": {
          "base_uri": "https://localhost:8080/",
          "height": 284
        },
        "id": "5IruVfEUliQw",
        "outputId": "74764dd5-b51c-4c0f-8790-444152d9fba5"
      },
      "source": [
        "human_data.describe()"
      ],
      "execution_count": 409,
      "outputs": [
        {
          "output_type": "execute_result",
          "data": {
            "text/html": [
              "<div>\n",
              "<style scoped>\n",
              "    .dataframe tbody tr th:only-of-type {\n",
              "        vertical-align: middle;\n",
              "    }\n",
              "\n",
              "    .dataframe tbody tr th {\n",
              "        vertical-align: top;\n",
              "    }\n",
              "\n",
              "    .dataframe thead th {\n",
              "        text-align: right;\n",
              "    }\n",
              "</style>\n",
              "<table border=\"1\" class=\"dataframe\">\n",
              "  <thead>\n",
              "    <tr style=\"text-align: right;\">\n",
              "      <th></th>\n",
              "      <th>class</th>\n",
              "      <th>length of sequence</th>\n",
              "    </tr>\n",
              "  </thead>\n",
              "  <tbody>\n",
              "    <tr>\n",
              "      <th>count</th>\n",
              "      <td>4380.000000</td>\n",
              "      <td>4380.000000</td>\n",
              "    </tr>\n",
              "    <tr>\n",
              "      <th>mean</th>\n",
              "      <td>3.504566</td>\n",
              "      <td>1263.598630</td>\n",
              "    </tr>\n",
              "    <tr>\n",
              "      <th>std</th>\n",
              "      <td>2.132134</td>\n",
              "      <td>1280.754087</td>\n",
              "    </tr>\n",
              "    <tr>\n",
              "      <th>min</th>\n",
              "      <td>0.000000</td>\n",
              "      <td>5.000000</td>\n",
              "    </tr>\n",
              "    <tr>\n",
              "      <th>25%</th>\n",
              "      <td>2.000000</td>\n",
              "      <td>405.000000</td>\n",
              "    </tr>\n",
              "    <tr>\n",
              "      <th>50%</th>\n",
              "      <td>4.000000</td>\n",
              "      <td>865.000000</td>\n",
              "    </tr>\n",
              "    <tr>\n",
              "      <th>75%</th>\n",
              "      <td>6.000000</td>\n",
              "      <td>1662.000000</td>\n",
              "    </tr>\n",
              "    <tr>\n",
              "      <th>max</th>\n",
              "      <td>6.000000</td>\n",
              "      <td>18921.000000</td>\n",
              "    </tr>\n",
              "  </tbody>\n",
              "</table>\n",
              "</div>"
            ],
            "text/plain": [
              "             class  length of sequence\n",
              "count  4380.000000         4380.000000\n",
              "mean      3.504566         1263.598630\n",
              "std       2.132134         1280.754087\n",
              "min       0.000000            5.000000\n",
              "25%       2.000000          405.000000\n",
              "50%       4.000000          865.000000\n",
              "75%       6.000000         1662.000000\n",
              "max       6.000000        18921.000000"
            ]
          },
          "metadata": {
            "tags": []
          },
          "execution_count": 409
        }
      ]
    },
    {
      "cell_type": "code",
      "metadata": {
        "colab": {
          "base_uri": "https://localhost:8080/",
          "height": 281
        },
        "id": "IQeQMZ9OliQw",
        "outputId": "7f949fbe-4f4a-43d0-a52b-c148fce618d9"
      },
      "source": [
        "human_data['class'].value_counts().sort_index().plot(kind='bar')"
      ],
      "execution_count": 410,
      "outputs": [
        {
          "output_type": "execute_result",
          "data": {
            "text/plain": [
              "<matplotlib.axes._subplots.AxesSubplot at 0x7f3cff2339b0>"
            ]
          },
          "metadata": {
            "tags": []
          },
          "execution_count": 410
        },
        {
          "output_type": "display_data",
          "data": {
            "image/png": "[encoded data removed]",
            "text/plain": [
              "<Figure size 432x288 with 1 Axes>"
            ]
          },
          "metadata": {
            "tags": [],
            "needs_background": "light"
          }
        }
      ]
    },
    {
      "cell_type": "code",
      "metadata": {
        "id": "ku9yk6kUEtsY"
      },
      "source": [
        "'''from sklearn.utils import resample\n",
        "# Separate class 6 and other classes\n",
        "df_without_class6 = human_data[human_data['class']!=6]\n",
        "df_with_class6 = human_data[human_data['class']==6]\n",
        " \n",
        "# Upsample minority class\n",
        "df_with_class6 = resample(df_with_class6, \n",
        "                                 replace=True,     \n",
        "                                 n_samples=700,    \n",
        "                                 random_state=123)\n",
        "human_data = pd.concat([df_with_class6, df_without_class6])\n",
        "human_data['class'].value_counts().sort_index().plot(kind='bar')'''"
      ],
      "execution_count": 411,
      "outputs": []
    },
    {
      "cell_type": "markdown",
      "metadata": {
        "id": "jHg4UXqzliQw"
      },
      "source": [
        "### Treating DNA sequence as a \"language\", otherwise known as  k-mer counting\n",
        "\n",
        "A challenge that remains is that none of these above methods results in vectors of uniform length, and that is a requirement for feeding data to a classification or regression algorithm. So with the above methods you have to resort to things like truncating sequences or padding with \"n\" or \"0\" to get vectors of uniform length.\n",
        "\n",
        "DNA and protein sequences can be viewed metaphorically as the language of life. The language encodes instructions as well as function for the molecules that are found in all life forms. The sequence language analogy continues with the genome as the book, subsequences (genes and gene families) are sentences and chapters, k-mers and peptides (motifs) are words, and nucleotide bases and amino acids are the alphabet. Since the analogy seems so apt, it stands to reason that the amazing work done in the natural language processing field should also apply to the natural language of DNA and protein sequences.\n",
        "\n",
        "The method I use here is simple and easy. I first take the long biological sequence and break it down into k-mer length overlapping “words”. For example, if I use \"words\" of length 6 (hexamers), “ATGCATGCA” becomes: ‘ATGCAT’, ‘TGCATG’, ‘GCATGC’, ‘CATGCA’. Hence our example sequence is broken down into 4 hexamer words.\n",
        "\n",
        "Here I am using hexamer “words” but that is arbitrary and word length can be tuned to suit the particular situation. The word length and amount of overlap need to be determined empirically for any given application.\n",
        "\n",
        "In genomics, we refer to these types of manipulations as \"k-mer counting\", or counting the occurances of each possible k-mer sequence. There are specialized tools for this, but the Python natural language processing tools make it supe easy.\n",
        "\n",
        "Here is a function that can be used to convert any sequence (string) to overlapping k-mer words:"
      ]
    },
    {
      "cell_type": "markdown",
      "metadata": {
        "id": "lIvbKCwxliQx"
      },
      "source": [
        "### Let's define a function to collect all possible overlapping k-mers of a specified length from any sequence string. We will basically apply the k-mers to the complete sequences."
      ]
    },
    {
      "cell_type": "code",
      "metadata": {
        "id": "q7X7M-YYliQx"
      },
      "source": [
        "def getKmers(sequence, size):\n",
        "    return [sequence[x:x+size].lower() for x in range(len(sequence) - size + 1)]"
      ],
      "execution_count": 413,
      "outputs": []
    },
    {
      "cell_type": "markdown",
      "metadata": {
        "id": "uVsQIC6hliQx"
      },
      "source": [
        "## Now we can convert our training data sequences into short overlapping  k-mers of legth 6.  Lets do that for each species of data we have using our getKmers function."
      ]
    },
    {
      "cell_type": "code",
      "metadata": {
        "id": "FXmgsciUliQx"
      },
      "source": [
        "human_data['words'] = human_data.apply(lambda x: getKmers(sequence=x['sequence'], size=6), axis=1)\n",
        "human_data = human_data.drop('sequence', axis=1)"
      ],
      "execution_count": 414,
      "outputs": []
    },
    {
      "cell_type": "markdown",
      "metadata": {
        "id": "xXN5NgrkliQy"
      },
      "source": [
        "### Now, our coding sequence data is changed to lowercase, split up into all possible k-mer words of length 6 and ready for the next step.  Let's take a look."
      ]
    },
    {
      "cell_type": "code",
      "metadata": {
        "colab": {
          "base_uri": "https://localhost:8080/",
          "height": 195
        },
        "id": "g7cvSkb4liQy",
        "outputId": "afd46fd0-1156-42a7-d610-10da9e3f66f9"
      },
      "source": [
        "human_data.head()"
      ],
      "execution_count": 415,
      "outputs": [
        {
          "output_type": "execute_result",
          "data": {
            "text/html": [
              "<div>\n",
              "<style scoped>\n",
              "    .dataframe tbody tr th:only-of-type {\n",
              "        vertical-align: middle;\n",
              "    }\n",
              "\n",
              "    .dataframe tbody tr th {\n",
              "        vertical-align: top;\n",
              "    }\n",
              "\n",
              "    .dataframe thead th {\n",
              "        text-align: right;\n",
              "    }\n",
              "</style>\n",
              "<table border=\"1\" class=\"dataframe\">\n",
              "  <thead>\n",
              "    <tr style=\"text-align: right;\">\n",
              "      <th></th>\n",
              "      <th>class</th>\n",
              "      <th>length of sequence</th>\n",
              "      <th>words</th>\n",
              "    </tr>\n",
              "  </thead>\n",
              "  <tbody>\n",
              "    <tr>\n",
              "      <th>3609</th>\n",
              "      <td>6</td>\n",
              "      <td>1809</td>\n",
              "      <td>[atgtcg, tgtcga, gtcgaa, tcgaat, cgaatg, gaatg...</td>\n",
              "    </tr>\n",
              "    <tr>\n",
              "      <th>3260</th>\n",
              "      <td>6</td>\n",
              "      <td>1263</td>\n",
              "      <td>[nctttt, cttttg, ttttgc, tttgca, ttgcag, tgcag...</td>\n",
              "    </tr>\n",
              "    <tr>\n",
              "      <th>228</th>\n",
              "      <td>6</td>\n",
              "      <td>1476</td>\n",
              "      <td>[atggtc, tggtct, ggtctg, gtctgt, tctgta, ctgta...</td>\n",
              "    </tr>\n",
              "    <tr>\n",
              "      <th>3659</th>\n",
              "      <td>6</td>\n",
              "      <td>1314</td>\n",
              "      <td>[atggcc, tggcct, ggcctt, gccttg, ccttgg, cttgg...</td>\n",
              "    </tr>\n",
              "    <tr>\n",
              "      <th>4054</th>\n",
              "      <td>6</td>\n",
              "      <td>333</td>\n",
              "      <td>[gccgtg, ccgtgc, cgtgca, gtgcag, tgcagc, gcagc...</td>\n",
              "    </tr>\n",
              "  </tbody>\n",
              "</table>\n",
              "</div>"
            ],
            "text/plain": [
              "      class  ...                                              words\n",
              "3609      6  ...  [atgtcg, tgtcga, gtcgaa, tcgaat, cgaatg, gaatg...\n",
              "3260      6  ...  [nctttt, cttttg, ttttgc, tttgca, ttgcag, tgcag...\n",
              "228       6  ...  [atggtc, tggtct, ggtctg, gtctgt, tctgta, ctgta...\n",
              "3659      6  ...  [atggcc, tggcct, ggcctt, gccttg, ccttgg, cttgg...\n",
              "4054      6  ...  [gccgtg, ccgtgc, cgtgca, gtgcag, tgcagc, gcagc...\n",
              "\n",
              "[5 rows x 3 columns]"
            ]
          },
          "metadata": {
            "tags": []
          },
          "execution_count": 415
        }
      ]
    },
    {
      "cell_type": "code",
      "metadata": {
        "id": "W8K9b6x-AsP0"
      },
      "source": [
        "human_data['number of k-mer words'] = human_data.words.apply(len)"
      ],
      "execution_count": 416,
      "outputs": []
    },
    {
      "cell_type": "code",
      "metadata": {
        "colab": {
          "base_uri": "https://localhost:8080/",
          "height": 343
        },
        "id": "Oi7zS0iTBXVc",
        "outputId": "fe0bff67-f020-4515-ba35-c5637a054456"
      },
      "source": [
        "human_data.head(10)"
      ],
      "execution_count": 433,
      "outputs": [
        {
          "output_type": "execute_result",
          "data": {
            "text/html": [
              "<div>\n",
              "<style scoped>\n",
              "    .dataframe tbody tr th:only-of-type {\n",
              "        vertical-align: middle;\n",
              "    }\n",
              "\n",
              "    .dataframe tbody tr th {\n",
              "        vertical-align: top;\n",
              "    }\n",
              "\n",
              "    .dataframe thead th {\n",
              "        text-align: right;\n",
              "    }\n",
              "</style>\n",
              "<table border=\"1\" class=\"dataframe\">\n",
              "  <thead>\n",
              "    <tr style=\"text-align: right;\">\n",
              "      <th></th>\n",
              "      <th>class</th>\n",
              "      <th>length of sequence</th>\n",
              "      <th>words</th>\n",
              "      <th>number of k-mer words</th>\n",
              "    </tr>\n",
              "  </thead>\n",
              "  <tbody>\n",
              "    <tr>\n",
              "      <th>3609</th>\n",
              "      <td>6</td>\n",
              "      <td>1809</td>\n",
              "      <td>[atgtcg, tgtcga, gtcgaa, tcgaat, cgaatg, gaatg...</td>\n",
              "      <td>1804</td>\n",
              "    </tr>\n",
              "    <tr>\n",
              "      <th>3260</th>\n",
              "      <td>6</td>\n",
              "      <td>1263</td>\n",
              "      <td>[nctttt, cttttg, ttttgc, tttgca, ttgcag, tgcag...</td>\n",
              "      <td>1258</td>\n",
              "    </tr>\n",
              "    <tr>\n",
              "      <th>228</th>\n",
              "      <td>6</td>\n",
              "      <td>1476</td>\n",
              "      <td>[atggtc, tggtct, ggtctg, gtctgt, tctgta, ctgta...</td>\n",
              "      <td>1471</td>\n",
              "    </tr>\n",
              "    <tr>\n",
              "      <th>3659</th>\n",
              "      <td>6</td>\n",
              "      <td>1314</td>\n",
              "      <td>[atggcc, tggcct, ggcctt, gccttg, ccttgg, cttgg...</td>\n",
              "      <td>1309</td>\n",
              "    </tr>\n",
              "    <tr>\n",
              "      <th>4054</th>\n",
              "      <td>6</td>\n",
              "      <td>333</td>\n",
              "      <td>[gccgtg, ccgtgc, cgtgca, gtgcag, tgcagc, gcagc...</td>\n",
              "      <td>328</td>\n",
              "    </tr>\n",
              "    <tr>\n",
              "      <th>218</th>\n",
              "      <td>6</td>\n",
              "      <td>204</td>\n",
              "      <td>[atgcgt, tgcgtg, gcgtgc, cgtgcc, gtgccg, tgccg...</td>\n",
              "      <td>199</td>\n",
              "    </tr>\n",
              "    <tr>\n",
              "      <th>244</th>\n",
              "      <td>6</td>\n",
              "      <td>1056</td>\n",
              "      <td>[atgacc, tgaccg, gaccga, accgaa, ccgaaa, cgaaa...</td>\n",
              "      <td>1051</td>\n",
              "    </tr>\n",
              "    <tr>\n",
              "      <th>2097</th>\n",
              "      <td>6</td>\n",
              "      <td>810</td>\n",
              "      <td>[atgtac, tgtaca, gtacaa, tacaaa, acaaag, caaag...</td>\n",
              "      <td>805</td>\n",
              "    </tr>\n",
              "    <tr>\n",
              "      <th>106</th>\n",
              "      <td>6</td>\n",
              "      <td>505</td>\n",
              "      <td>[atgaat, tgaatg, gaatga, aatgat, atgatt, tgatt...</td>\n",
              "      <td>500</td>\n",
              "    </tr>\n",
              "    <tr>\n",
              "      <th>138</th>\n",
              "      <td>6</td>\n",
              "      <td>1326</td>\n",
              "      <td>[atgaag, tgaagg, gaaggc, aaggcg, aggcgg, ggcgg...</td>\n",
              "      <td>1321</td>\n",
              "    </tr>\n",
              "  </tbody>\n",
              "</table>\n",
              "</div>"
            ],
            "text/plain": [
              "      class  ...  number of k-mer words\n",
              "3609      6  ...                   1804\n",
              "3260      6  ...                   1258\n",
              "228       6  ...                   1471\n",
              "3659      6  ...                   1309\n",
              "4054      6  ...                    328\n",
              "218       6  ...                    199\n",
              "244       6  ...                   1051\n",
              "2097      6  ...                    805\n",
              "106       6  ...                    500\n",
              "138       6  ...                   1321\n",
              "\n",
              "[10 rows x 4 columns]"
            ]
          },
          "metadata": {
            "tags": []
          },
          "execution_count": 433
        }
      ]
    },
    {
      "cell_type": "markdown",
      "metadata": {
        "id": "AvhIO8EZliQy"
      },
      "source": [
        "### Since we are going to use scikit-learn natural language processing tools to do the k-mer counting, we need to now convert the lists of k-mers for each gene into string sentences of words that the count vectorizer can use.  We can also make a y variable to hold the class labels.  Let's do that now."
      ]
    },
    {
      "cell_type": "code",
      "metadata": {
        "id": "eRgKXAvzliQy"
      },
      "source": [
        "human_texts = list(human_data['words'])\n",
        "for item in range(len(human_texts)):\n",
        "    human_texts[item] = ' '.join(human_texts[item])\n",
        "y_data = human_data.iloc[:, 0].values                         "
      ],
      "execution_count": 418,
      "outputs": []
    },
    {
      "cell_type": "code",
      "metadata": {
        "colab": {
          "base_uri": "https://localhost:8080/"
        },
        "id": "i0csGUVDliQy",
        "outputId": "9dba0e69-cc34-4766-92a2-e83ea6657778"
      },
      "source": [
        "print(human_texts[2])"
      ],
      "execution_count": 419,
      "outputs": [
        {
          "output_type": "stream",
          "text": [
            "atggtc tggtct ggtctg gtctgt tctgta ctgtac tgtaca gtacaa tacaat acaata caatat aatatg atatgt tatgtc atgtca tgtcaa gtcaag tcaaga caagaa aagaag agaaga gaagag aagagt agagta gagtat agtatt gtattc tattca attcag ttcaga tcagaa cagaag agaagc gaagct aagctc agctcc gctccc ctccca tcccaa cccaat ccaatg caatga aatgaa atgaaa tgaaat gaaatg aaatgg aatggt atggtt tggtta ggttat gttata ttatat tatatg atatgt tatgtg atgtga tgtgac gtgaca tgacaa gacaag acaagt caagtg aagtgt agtgtg gtgtgg tgtggc gtggcc tggcca ggccaa gccaag ccaagg caagga aaggat aggata ggatat gatatc atatca tatcat atcatc tcatca catcag atcagt tcagtt cagttg agttgt gttgtg ttgtgt tgtgtc gtgtca tgtcac gtcaca tcacac cacaca acacac cacacc acacct cacctc acctca cctcat ctcata tcatat catatt atattg tattga attgat ttgatt tgattc gattcc attcca ttccag tccagt ccagtg cagtgt agtgtg gtgtga tgtgat gtgatt tgattg gattga attgat ttgatt tgattc gattca attcag ttcaga tcagat cagatg agatga gatgaa atgaaa tgaaaa gaaaaa aaaaat aaaatg aaatgg aatggc atggct tggctc ggctct gctctg ctctgt tctgtc ctgtcg tgtcgg gtcggc tcggca cggcag ggcagt gcagtg cagtgt agtgtg gtgtgt tgtgtt gtgttt tgtttt gttttt tttttg ttttgc tttgca ttgcaa tgcaac gcaaca caacaa aacaac acaaca caacaa aacaac acaaca caacaa aacaaa acaaag caaaga aaagag aagagg agaggg gagggg aggggt ggggtg gggtgg ggtggt gtggtg tggtgc ggtgca gtgcac tgcact gcactt cactta acttaa cttaag ttaaga taagaa aagaaa agaaag gaaagg aaagga aaggac aggacc ggacca gaccaa accaaa ccaaat caaatg aaatgc aatgcc atgcca tgccaa gccaaa ccaaag caaagc aaagca aagcat agcatt gcattg cattgc attgca ttgcaa tgcaag gcaagt caagtc aagtca agtcat gtcatg tcatga catgaa atgaag tgaagc gaagca aagcag agcaga gcagac cagaca agacat gacatt acatta cattac attacc ttaccc taccct acccta ccctat cctata ctatag tatagt atagtg tagtgt agtgtg gtgtgg tgtggc gtggca tggcag ggcaga gcagac cagacc agacct gacctt accttg ccttga cttgaa ttgaat tgaatg gaatgg aatggg atggga tgggat gggatg ggatgc gatgca atgcag tgcagg gcaggt caggtc aggtca ggtcat gtcata tcataa cataaa ataaaa taaaac aaaacc aaacca aaccaa accaat ccaatg caatgt aatgtc atgtcc tgtcca gtccag tccagc ccagca cagcag agcagt gcagtg cagtgt agtgtt gtgtta tgttac gttact ttactg tactgc actgct ctgcta tgctat gctatt ctattg tattgt attgtg ttgtgg tgtgga gtggag tggagg ggaggc gaggcc aggccc ggccct gccctg ccctgg cctgga ctggag tggaga ggagac gagact agactg gactgg actggt ctggta tggtat ggtatt gtattt tatttg atttga tttgaa ttgaag tgaaga gaagat aagatg agatgc gatgct atgcta tgctac gctaca ctacag tacagt acagtg cagtgc agtgct gtgctg tgctgc gctgca ctgcaa tgcaaa gcaaat caaatg aaatgt aatgta atgtaa tgtaag gtaagc taagca aagcag agcagt gcagtg cagtgg agtggt gtggtt tggttt ggtttc gtttca tttcat ttcatg tcatga catgag atgagg tgaggc gaggct aggctt ggcttg gcttgt cttgtg ttgtgt tgtgtg gtgtgc tgtgca gtgcaa tgcaat gcaatg caatgc aatgcc atgcct tgcctt gccttc ccttca cttcaa ttcaaa tcaaaa caaaag aaaagc aaagcc aagcca agccaa gccaat ccaatg caatgc aatgct atgcta tgctat gctatt ctattt tatttg atttgg tttgga ttggag tggaga ggagac gagaca agacag gacaga acagat cagatt agattt gatttt atttta ttttat tttata ttatac tatacg atacgt tacgtt acgttt cgttta gtttat tttata ttatat tatatg atatgc tatgct atgctc tgctct gctctg ctctgt tctgtc ctgtct tgtctg gtctgc tctgca ctgcag tgcagt gcagtt cagttc agttct gttctg ttctgg tctgga ctggac tggacc ggacca gaccag accaga ccagaa cagaat agaata gaatac aatacc atacct tacctc acctca cctcaa ctcaaa tcaaac caaacg aaacgt aacgtc acgtct cgtcta gtctac tctacc ctacca taccat accatt ccatta cattac attaca ttacag tacagt acagtg cagtgg agtggg gtgggt tgggta gggtag ggtaga gtagat tagata agatat gatata atatag tatagc atagca tagcac agcaca gcacac cacacc acacct caccta acctat cctatg ctatgc tatgcc atgcct tgcctt gccttt ccttta ctttac tttaca ttacaa tacaac acaacc caacct aaccta acctaa cctaag ctaagt taagtg aagtgt agtgtt gtgtta tgttat gttatt ttattc tattca attcat ttcata tcataa cataag ataaga taagaa aagaag agaaga gaagaa aagaaa agaaat gaaata aaatac aatact atactt tacttt actttg ctttga tttgat ttgatt tgattc gattct attctg ttctga tctgaa ctgaac tgaact gaactt aacttg acttga cttgag ttgagc tgagct gagctt agctta gcttat cttatg ttatga tatgac atgaca tgacat gacata acatac cataca atacat tacatt acatta cattaa attaat ttaatg taatga aatgaa atgaaa tgaaaa gaaaac aaaact aaactg aactgg actggg ctggga tgggat gggata ggatag gataga atagat tagatt agattg gattgc attgca ttgcac tgcacc gcaccc caccct accctg ccctgg cctgga ctggag tggaga ggagag gagagc agagct gagctg agctgg gctggc ctggca tggcag ggcaga gcagac cagaca agacac gacaca acacac cacacc acacca caccaa accaaa ccaaaa caaaat aaaatc aaatct aatctg atctga tctgaa ctgaaa tgaaag gaaaga aaagat aagata agatat gatatg atatga tatgag atgagc tgagca gagcat agcatg gcatgt catgtt atgttc tgttct gttctg ttctgg tctgga ctggag tggagg ggaggc gaggca aggcat ggcatt gcatta cattaa attaaa ttaaat taaatg aaatga aatgat atgatt tgatta gattac attaca ttacaa tacaag acaaga caagac aagacc agacca gaccat accatg ccatgt catgtt atgttt tgttta gtttat tttatg ttatgt tatgtc atgtct tgtctg gtctgg tctggg ctggga tgggaa gggaaa ggaaag gaaaga aaagaa aagaaa agaaat gaaata aaataa aataaa ataaag taaaga aaagaa aagaag agaaga gaagaa aagaag agaaga gaagaa aagaag agaagc gaagca aagcat agcatt gcattt catttg atttgt tttgtt ttgttt tgtttg gtttgg tttggg ttgggt tgggtt gggttg ggttgc gttgcg ttgcga tgcgaa gcgaat cgaatt gaattc aattcg attcgt ttcgtg tcgtgt cgtgtt gtgttc tgttcc gttcct ttcctc tcctcc cctcct ctcctg tcctgt cctgtg ctgtgc tgtgcc gtgcca tgccac gccacc ccacca caccaa accaaa ccaaat caaatg aaatgt aatgtg atgtgg tgtggc gtggct tggctt ggcttt gctttc ctttca tttcaa ttcaaa tcaaag caaagc aaagca aagcag agcaga gcagag cagaga agagaa gagaaa agaaag gaaaga aaagaa aagaac agaacc gaacct aacctg acctga cctgaa ctgaag tgaagg gaagga aaggaa aggaac ggaaca gaacat aacatc acatct catctc atctca tctcat ctcatg tcatga catgaa atgaat tgaatt gaattt aattta atttaa tttaaa ttaaaa taaaat aaaatt aaatta aattaa attaaa ttaaag taaagg aaaggc aaggca aggcag ggcaga gcagaa cagaaa agaaag gaaagg aaaggc aaggca aggcat ggcatc gcatcc catcca atccaa tccaaa ccaaac caaacc aaacct aaccta acctat cctata ctatat tatatc atatct tatctg atctga tctgat ctgatt tgattc gattca attcaa ttcaag tcaagg caaggg aaggga agggaa gggaag ggaagt gaagta aagtaa agtaag gtaagc taagca aagcaa agcaat gcaatg caatgg aatggc atggca tggcat ggcata gcatag cataga atagaa tagaaa agaaaa gaaaaa aaaaaa aaaaaa aaaaaa aaaaag aaaagg aaagga aaggaa aggaaa ggaaag gaaaga aaagaa aagaaa agaaaa gaaaaa aaaaaa aaaaat aaaatc aaatct aatctg atctgt tctgta ctgtag tgtagg gtaggt taggtc aggtcg ggtcgt gtcgtc tcgtcc cgtcca gtccac tccacc ccacct cacctg acctgg cctggc ctggcc tggccc ggccca gcccat cccata ccatat catata atatac tataca atacaa tacaag acaaga caagaa aagaaa agaaaa gaaaaa aaaaat aaaatg aaatga aatgat atgatt tgattc gattca attcaa ttcaaa tcaaaa caaaaa aaaaaa aaaaac aaaact aaactg aactgc actgct ctgctg tgctga gctgag ctgagc tgagcc gagcca agccac gccact ccactt cacttt actttt cttttg ttttgg tttgga ttggat tggata ggataa gataag ataagg taagga aaggaa aggaat ggaatc gaatca aatcaa atcaat tcaatt caattt aatttc atttca tttcag ttcaga tcagag cagaga agagaa gagaat agaatc gaatcc aatcct atccta tcctac cctact ctactt tacttt actttg ctttgg tttgga ttggat tggatt ggattt gattta atttac tttacc ttacct tacctt accttg ccttgt cttgtt ttgttc tgttct gttcta ttctat tctata ctatag tatagg ataggg taggga agggag gggaga ggagaa gagaac agaact gaactg aactga actgag ctgagg tgaggg gaggga agggaa gggaac ggaact gaactg aactgc actgca ctgcac tgcaca gcacat cacatt acattc cattca attcat ttcatc tcatcc catcca atccaa tccaat ccaata caatac aatacc atacct tacctc acctca cctcag ctcaga tcagat cagatg agatgt gatgtg atgtgg tgtgga gtggat tggatt ggattt gatttc atttca tttcac ttcacg tcacgg cacggg acgggt cgggtg gggtgc ggtgct gtgctt tgcttc gcttcc cttcca ttccag tccagt ccagtg cagtgc agtgca gtgcaa tgcaaa gcaaaa caaaag aaaaga aaagaa aagaaa agaaac gaaact aaacta aactac actacc ctacct tacctc acctcg cctcgt ctcgtc tcgtct cgtcta gtctag tctagc ctagca tagcat agcatt gcattt catttc atttcc tttcca ttccag tccagg ccaggc caggca aggcat ggcatt gcatta cattat attatg ttatgg tatgga atggat tggatt ggatta gattat attatc ttatct tatctg atctga tctgac ctgact tgactc gactcc actcca ctccag tccaga ccagaa cagaaa agaaaa gaaaaa aaaaag aaaaga aaagaa aagaac agaacg gaacgc aacgcg acgcgt cgcgta gcgtac cgtaca gtacag tacagg acagga caggaa aggaag ggaaga gaagat aagatc agatct gatctt atcttg tcttgg cttggc ttggcc tggcct ggcctg gcctgc cctgct ctgctg tgctgc gctgca ctgcaa tgcaat gcaata caatac aatacc atacca taccac accaca ccacat cacatt acattt catttg atttgc tttgcg ttgcgg tgcgga gcggag cggaga ggagaa gagaag agaaga gaagaa aagaag agaaga gaagag aagagg agaggt gaggtc aggtcg ggtcgt gtcgtc tcgtct cgtctt gtcttc tcttcc cttcca ttccaa tccaag ccaaga caagaa aagaag agaaga gaagag aagagc agagca gagcac agcact gcactc cactcc actcca ctccag tccaga ccagac cagact agactc gactca actcag ctcaga tcagaa cagaac agaact gaactc aactca actcag ctcaga tcagaa cagaaa agaaat gaaatt aaattg aattgt attgta ttgtaa tgtaaa gtaaaa taaaag aaaaga aaagat aagatg agatga gatgat atgatg tgatga gatgaa atgaag tgaagg gaaggc aaggca aggcaa ggcaaa gcaaag caaaga aaagaa aagaag agaaga gaagat aagatt agatta gattat attatc ttatca tatcag atcagt tcagtt cagttt agtttg gtttga tttgat ttgatg tgatga gatgaa atgaac tgaact gaactc aactca actcaa ctcaac tcaaca caacac aacaca acacag cacaga acagag cagaga agagat gagatt agattc gattct attctg ttctga tctgaa ctgaat tgaata gaataa aataac ataact taactt aactta acttag cttagc ttagca tagcag agcaga gcagat cagatc agatca gatcag atcagg tcagga caggag aggagt ggagtt gagtta agttac gttaca ttacaa tacaac acaact caactc aactca actcaa ctcaat tcaatc caatca aatcat atcatc tcatct catcta atctaa tctaaa ctaaag taaaga aaagaa aagaac agaact gaactc aactcc actcca ctccat tccatt ccatta cattac attacc ttacca taccag accagt ccagtt cagtta agttat gttatt ttattt tatttt attttg ttttgg tttggt ttggtg tggtgc ggtgct gtgctg tgctgc gctgca ctgcag tgcagg gcaggt caggta aggtag ggtaga gtagaa tagaat agaata gaatag aatagc atagca tagcat agcatg gcatgt catgtg atgtgg tgtggc gtggcg tggcga ggcgaa gcgaaa cgaaaa gaaaaa aaaaat aaaata aaatac aatacc ataccg taccga accgag ccgagt cgagtt gagttt agtttt gttttg ttttgg tttggc ttggca tggcac ggcacg gcacgt cacgtc acgtcg cgtcgg gtcggg tcgggt cgggtg gggtga ggtgac gtgaca tgacac gacact acactt cacttg acttga cttgat ttgatg tgatgg gatgga atggaa tggaaa ggaaag gaaagg aaaggt aaggtg aggtgc ggtgca gtgcag tgcagt gcagta cagtat agtatc gtatct tatctt atcttg tcttgt cttgtg ttgtgg tgtgga gtggaa tggaat ggaatg gaatgg aatggg atggga tgggaa gggaag ggaagg gaagga aaggag aggagc ggagca gagcaa agcaac gcaact caactg aactgc actgca ctgcat tgcatc gcatcc catcct atcctg tcctga\n"
          ],
          "name": "stdout"
        }
      ]
    },
    {
      "cell_type": "code",
      "metadata": {
        "colab": {
          "base_uri": "https://localhost:8080/"
        },
        "id": "vAMYoJ92liQz",
        "outputId": "6bcf4b80-5c4f-4f3a-9430-8e2d569514c7"
      },
      "source": [
        "y_data"
      ],
      "execution_count": 420,
      "outputs": [
        {
          "output_type": "execute_result",
          "data": {
            "text/plain": [
              "array([6, 6, 6, ..., 0, 0, 0])"
            ]
          },
          "metadata": {
            "tags": []
          },
          "execution_count": 420
        }
      ]
    },
    {
      "cell_type": "markdown",
      "metadata": {
        "id": "HAPlAdxuliQz"
      },
      "source": [
        "## Now we will apply the BAG of WORDS using CountVectorizer using NLP"
      ]
    },
    {
      "cell_type": "code",
      "metadata": {
        "id": "WdqPZSneliQz"
      },
      "source": [
        "from sklearn.feature_extraction.text import CountVectorizer\n",
        "cv = CountVectorizer(ngram_range=(4,4))\n",
        "X = cv.fit_transform(human_texts)"
      ],
      "execution_count": 421,
      "outputs": []
    },
    {
      "cell_type": "code",
      "metadata": {
        "colab": {
          "base_uri": "https://localhost:8080/"
        },
        "id": "fqyk22mxliQz",
        "outputId": "a3a6a3aa-a8df-476f-e00c-8377df9ab86c"
      },
      "source": [
        "print(X.shape)"
      ],
      "execution_count": 422,
      "outputs": [
        {
          "output_type": "stream",
          "text": [
            "(3737, 229894)\n"
          ],
          "name": "stdout"
        }
      ]
    },
    {
      "cell_type": "code",
      "metadata": {
        "id": "mgK-A22SliQ0"
      },
      "source": [
        "# Splitting the human dataset into the training set and test set\n",
        "from sklearn.model_selection import train_test_split\n",
        "X_train, X_test, y_train, y_test = train_test_split(X, \n",
        "                                                    y_data, \n",
        "                                                    test_size = 0.20, \n",
        "                                                    random_state=42)"
      ],
      "execution_count": 423,
      "outputs": []
    },
    {
      "cell_type": "code",
      "metadata": {
        "colab": {
          "base_uri": "https://localhost:8080/"
        },
        "id": "hBWDpOJbliQ0",
        "outputId": "c829f4b8-b475-4e2f-eef1-73b495980ee4"
      },
      "source": [
        "print(X_train.shape)\n",
        "print(X_test.shape)"
      ],
      "execution_count": 424,
      "outputs": [
        {
          "output_type": "stream",
          "text": [
            "(2989, 229894)\n",
            "(748, 229894)\n"
          ],
          "name": "stdout"
        }
      ]
    },
    {
      "cell_type": "code",
      "metadata": {
        "scrolled": true,
        "id": "fJwUnnsqliQ0"
      },
      "source": [
        "from sklearn.linear_model import LogisticRegression"
      ],
      "execution_count": 425,
      "outputs": []
    },
    {
      "cell_type": "code",
      "metadata": {
        "colab": {
          "base_uri": "https://localhost:8080/"
        },
        "id": "72UUNdx_liQ0",
        "outputId": "5a1d4d62-c1df-4278-8282-de1ca66a96e3"
      },
      "source": [
        "classifier = LogisticRegression()\n",
        "classifier.fit(X_train, y_train)"
      ],
      "execution_count": 426,
      "outputs": [
        {
          "output_type": "execute_result",
          "data": {
            "text/plain": [
              "LogisticRegression(C=1.0, class_weight=None, dual=False, fit_intercept=True,\n",
              "                   intercept_scaling=1, l1_ratio=None, max_iter=100,\n",
              "                   multi_class='auto', n_jobs=None, penalty='l2',\n",
              "                   random_state=None, solver='lbfgs', tol=0.0001, verbose=0,\n",
              "                   warm_start=False)"
            ]
          },
          "metadata": {
            "tags": []
          },
          "execution_count": 426
        }
      ]
    },
    {
      "cell_type": "code",
      "metadata": {
        "id": "1mb9o5yFliQ1"
      },
      "source": [
        "y_pred = classifier.predict(X_test)"
      ],
      "execution_count": 427,
      "outputs": []
    },
    {
      "cell_type": "code",
      "metadata": {
        "id": "udF560uOliQ1"
      },
      "source": [
        "from sklearn.metrics import accuracy_score, f1_score, precision_score, recall_score, confusion_matrix, classification_report"
      ],
      "execution_count": 428,
      "outputs": []
    },
    {
      "cell_type": "code",
      "metadata": {
        "colab": {
          "base_uri": "https://localhost:8080/",
          "height": 282
        },
        "id": "lNQIfkI2liQ1",
        "outputId": "334d1ce5-edbc-4937-94a3-1e99b3d002ab"
      },
      "source": [
        "sns.heatmap(confusion_matrix(y_test,y_pred), annot=True)"
      ],
      "execution_count": 429,
      "outputs": [
        {
          "output_type": "execute_result",
          "data": {
            "text/plain": [
              "<matplotlib.axes._subplots.AxesSubplot at 0x7f3d30e97940>"
            ]
          },
          "metadata": {
            "tags": []
          },
          "execution_count": 429
        },
        {
          "output_type": "display_data",
          "data": {
            "image/png": "[encoded data removed]",
            "text/plain": [
              "<Figure size 432x288 with 2 Axes>"
            ]
          },
          "metadata": {
            "tags": [],
            "needs_background": "light"
          }
        }
      ]
    },
    {
      "cell_type": "code",
      "metadata": {
        "colab": {
          "base_uri": "https://localhost:8080/"
        },
        "id": "2sO1qKDCliQ1",
        "outputId": "ca216e12-0af4-49f7-a546-d5cbff35d4fb"
      },
      "source": [
        "print(classification_report(y_test,y_pred))"
      ],
      "execution_count": 430,
      "outputs": [
        {
          "output_type": "stream",
          "text": [
            "              precision    recall  f1-score   support\n",
            "\n",
            "           0       0.99      0.94      0.97       106\n",
            "           1       1.00      0.96      0.98        92\n",
            "           2       1.00      0.92      0.96        77\n",
            "           3       0.94      0.93      0.94       123\n",
            "           4       0.88      0.98      0.93       146\n",
            "           5       1.00      0.87      0.93        45\n",
            "           6       0.95      0.97      0.96       159\n",
            "\n",
            "    accuracy                           0.95       748\n",
            "   macro avg       0.97      0.94      0.95       748\n",
            "weighted avg       0.95      0.95      0.95       748\n",
            "\n"
          ],
          "name": "stdout"
        }
      ]
    },
    {
      "cell_type": "code",
      "metadata": {
        "colab": {
          "base_uri": "https://localhost:8080/"
        },
        "id": "qOBf7BT8liQ1",
        "outputId": "90635bf9-98a2-439a-f273-e3eb49ad12f5"
      },
      "source": [
        "def get_metrics(y_test, y_predicted):\n",
        "    accuracy = accuracy_score(y_test, y_predicted)\n",
        "    precision = precision_score(y_test, y_predicted, average='weighted')\n",
        "    recall = recall_score(y_test, y_predicted, average='weighted')\n",
        "    f1 = f1_score(y_test, y_predicted, average='weighted')\n",
        "    return accuracy, precision, recall, f1\n",
        "accuracy, precision, recall, f1 = get_metrics(y_test, y_pred)\n",
        "print(\"accuracy = %.3f \\n precision = %.3f \\n recall = %.3f \\n f1 = %.3f\" % (accuracy, precision, recall, f1))"
      ],
      "execution_count": 431,
      "outputs": [
        {
          "output_type": "stream",
          "text": [
            "accuracy = 0.951 \n",
            " precision = 0.954 \n",
            " recall = 0.951 \n",
            " f1 = 0.951\n"
          ],
          "name": "stdout"
        }
      ]
    }
  ]
}